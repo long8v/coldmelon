{
 "cells": [
  {
   "cell_type": "code",
   "execution_count": 1,
   "metadata": {},
   "outputs": [],
   "source": [
    "import os\n",
    "from gensim.models import Word2Vec\n",
    "import numpy as np\n",
    "import pandas as pd\n",
    "from scipy.sparse import *\n",
    "from collections import Counter\n",
    "from sklearn.utils import shuffle\n",
    "\n",
    "from implicit.evaluation import  *\n",
    "from implicit.als import AlternatingLeastSquares as ALS\n",
    "from implicit.bpr import BayesianPersonalizedRanking as BPR"
   ]
  },
  {
   "cell_type": "code",
   "execution_count": 2,
   "metadata": {},
   "outputs": [],
   "source": [
    "w2v = Word2Vec.load('../file/w2v.model')"
   ]
  },
  {
   "cell_type": "code",
   "execution_count": 3,
   "metadata": {},
   "outputs": [],
   "source": [
    "train = pd.read_json('../file/train.json', encoding='utf-8')\n",
    "test = pd.read_json('../file/val.json', encoding='utf-8')"
   ]
  },
  {
   "cell_type": "code",
   "execution_count": 4,
   "metadata": {},
   "outputs": [],
   "source": [
    "train = pd.read_pickle('../file/train_pos.pickle')\n",
    "test = pd.read_pickle('../file/validataion_pos.pickle')"
   ]
  },
  {
   "cell_type": "code",
   "execution_count": 5,
   "metadata": {},
   "outputs": [],
   "source": [
    "# train.tags + train.ta"
   ]
  },
  {
   "cell_type": "code",
   "execution_count": 6,
   "metadata": {},
   "outputs": [
    {
     "data": {
      "text/html": [
       "<div>\n",
       "<style scoped>\n",
       "    .dataframe tbody tr th:only-of-type {\n",
       "        vertical-align: middle;\n",
       "    }\n",
       "\n",
       "    .dataframe tbody tr th {\n",
       "        vertical-align: top;\n",
       "    }\n",
       "\n",
       "    .dataframe thead th {\n",
       "        text-align: right;\n",
       "    }\n",
       "</style>\n",
       "<table border=\"1\" class=\"dataframe\">\n",
       "  <thead>\n",
       "    <tr style=\"text-align: right;\">\n",
       "      <th></th>\n",
       "      <th>tags</th>\n",
       "      <th>id</th>\n",
       "      <th>plylst_title</th>\n",
       "      <th>songs</th>\n",
       "      <th>like_cnt</th>\n",
       "      <th>updt_date</th>\n",
       "      <th>plyst_title_pos</th>\n",
       "      <th>genre</th>\n",
       "      <th>genre_kor</th>\n",
       "    </tr>\n",
       "  </thead>\n",
       "  <tbody>\n",
       "    <tr>\n",
       "      <td>0</td>\n",
       "      <td>[락]</td>\n",
       "      <td>61281</td>\n",
       "      <td>여행같은 음악</td>\n",
       "      <td>[525514, 129701, 383374, 562083, 297861, 13954...</td>\n",
       "      <td>71</td>\n",
       "      <td>2013-12-19 18:36:19.000</td>\n",
       "      <td>[여행, 음악]</td>\n",
       "      <td>[(POP, 10), (록, 10), (메탈, 10), (포크, 6), (얼터너티브...</td>\n",
       "      <td>[POP, 록, 메탈, 포크, 얼터너티브팝]</td>\n",
       "    </tr>\n",
       "    <tr>\n",
       "      <td>1</td>\n",
       "      <td>[추억, 회상]</td>\n",
       "      <td>10532</td>\n",
       "      <td>요즘 너 말야</td>\n",
       "      <td>[432406, 675945, 497066, 120377, 389529, 24427...</td>\n",
       "      <td>1</td>\n",
       "      <td>2014-12-02 16:19:42.000</td>\n",
       "      <td>[요즘]</td>\n",
       "      <td>[(록, 16), ('10-, 16), (발라드, 11), (메탈, 11), ('0...</td>\n",
       "      <td>[록, '10-, 발라드, 메탈, '00]</td>\n",
       "    </tr>\n",
       "    <tr>\n",
       "      <td>2</td>\n",
       "      <td>[까페, 잔잔한]</td>\n",
       "      <td>76951</td>\n",
       "      <td>편하게, 잔잔하게 들을 수 있는 곡.-</td>\n",
       "      <td>[83116, 276692, 166267, 186301, 354465, 256598...</td>\n",
       "      <td>17</td>\n",
       "      <td>2017-08-28 07:09:34.000</td>\n",
       "      <td>[편하, 잔잔]</td>\n",
       "      <td>[(R&amp;B, 25), ('10-, 18), (Soul, 15), (인디음악, 12)...</td>\n",
       "      <td>[R&amp;B, '10-, Soul, 인디음악, 록]</td>\n",
       "    </tr>\n",
       "  </tbody>\n",
       "</table>\n",
       "</div>"
      ],
      "text/plain": [
       "        tags     id           plylst_title  \\\n",
       "0        [락]  61281                여행같은 음악   \n",
       "1   [추억, 회상]  10532                요즘 너 말야   \n",
       "2  [까페, 잔잔한]  76951  편하게, 잔잔하게 들을 수 있는 곡.-   \n",
       "\n",
       "                                               songs  like_cnt  \\\n",
       "0  [525514, 129701, 383374, 562083, 297861, 13954...        71   \n",
       "1  [432406, 675945, 497066, 120377, 389529, 24427...         1   \n",
       "2  [83116, 276692, 166267, 186301, 354465, 256598...        17   \n",
       "\n",
       "                 updt_date plyst_title_pos  \\\n",
       "0  2013-12-19 18:36:19.000        [여행, 음악]   \n",
       "1  2014-12-02 16:19:42.000            [요즘]   \n",
       "2  2017-08-28 07:09:34.000        [편하, 잔잔]   \n",
       "\n",
       "                                               genre  \\\n",
       "0  [(POP, 10), (록, 10), (메탈, 10), (포크, 6), (얼터너티브...   \n",
       "1  [(록, 16), ('10-, 16), (발라드, 11), (메탈, 11), ('0...   \n",
       "2  [(R&B, 25), ('10-, 18), (Soul, 15), (인디음악, 12)...   \n",
       "\n",
       "                    genre_kor  \n",
       "0    [POP, 록, 메탈, 포크, 얼터너티브팝]  \n",
       "1     [록, '10-, 발라드, 메탈, '00]  \n",
       "2  [R&B, '10-, Soul, 인디음악, 록]  "
      ]
     },
     "execution_count": 6,
     "metadata": {},
     "output_type": "execute_result"
    }
   ],
   "source": [
    "train.head(3)"
   ]
  },
  {
   "cell_type": "code",
   "execution_count": 7,
   "metadata": {},
   "outputs": [],
   "source": [
    "train['all_word'] = train.tags + train.plyst_title_pos + train.genre_kor "
   ]
  },
  {
   "cell_type": "code",
   "execution_count": 8,
   "metadata": {},
   "outputs": [],
   "source": [
    "test['all_word'] = test.tags + test.plyst_title_pos + test.genre_kor "
   ]
  },
  {
   "cell_type": "code",
   "execution_count": 9,
   "metadata": {},
   "outputs": [],
   "source": [
    "w2v = Word2Vec(train.all_word, size = 500)"
   ]
  },
  {
   "cell_type": "code",
   "execution_count": 10,
   "metadata": {},
   "outputs": [
    {
     "data": {
      "text/html": [
       "<div>\n",
       "<style scoped>\n",
       "    .dataframe tbody tr th:only-of-type {\n",
       "        vertical-align: middle;\n",
       "    }\n",
       "\n",
       "    .dataframe tbody tr th {\n",
       "        vertical-align: top;\n",
       "    }\n",
       "\n",
       "    .dataframe thead th {\n",
       "        text-align: right;\n",
       "    }\n",
       "</style>\n",
       "<table border=\"1\" class=\"dataframe\">\n",
       "  <thead>\n",
       "    <tr style=\"text-align: right;\">\n",
       "      <th></th>\n",
       "      <th>tags</th>\n",
       "      <th>id</th>\n",
       "      <th>plylst_title</th>\n",
       "      <th>songs</th>\n",
       "      <th>like_cnt</th>\n",
       "      <th>updt_date</th>\n",
       "      <th>plyst_title_pos</th>\n",
       "      <th>genre</th>\n",
       "      <th>genre_kor</th>\n",
       "      <th>all_word</th>\n",
       "    </tr>\n",
       "  </thead>\n",
       "  <tbody>\n",
       "    <tr>\n",
       "      <td>0</td>\n",
       "      <td>[락]</td>\n",
       "      <td>61281</td>\n",
       "      <td>여행같은 음악</td>\n",
       "      <td>[525514, 129701, 383374, 562083, 297861, 13954...</td>\n",
       "      <td>71</td>\n",
       "      <td>2013-12-19 18:36:19.000</td>\n",
       "      <td>[여행, 음악]</td>\n",
       "      <td>[(POP, 10), (록, 10), (메탈, 10), (포크, 6), (얼터너티브...</td>\n",
       "      <td>[POP, 록, 메탈, 포크, 얼터너티브팝]</td>\n",
       "      <td>[락, 여행, 음악, POP, 록, 메탈, 포크, 얼터너티브팝]</td>\n",
       "    </tr>\n",
       "    <tr>\n",
       "      <td>1</td>\n",
       "      <td>[추억, 회상]</td>\n",
       "      <td>10532</td>\n",
       "      <td>요즘 너 말야</td>\n",
       "      <td>[432406, 675945, 497066, 120377, 389529, 24427...</td>\n",
       "      <td>1</td>\n",
       "      <td>2014-12-02 16:19:42.000</td>\n",
       "      <td>[요즘]</td>\n",
       "      <td>[(록, 16), ('10-, 16), (발라드, 11), (메탈, 11), ('0...</td>\n",
       "      <td>[록, '10-, 발라드, 메탈, '00]</td>\n",
       "      <td>[추억, 회상, 요즘, 록, '10-, 발라드, 메탈, '00]</td>\n",
       "    </tr>\n",
       "    <tr>\n",
       "      <td>2</td>\n",
       "      <td>[까페, 잔잔한]</td>\n",
       "      <td>76951</td>\n",
       "      <td>편하게, 잔잔하게 들을 수 있는 곡.-</td>\n",
       "      <td>[83116, 276692, 166267, 186301, 354465, 256598...</td>\n",
       "      <td>17</td>\n",
       "      <td>2017-08-28 07:09:34.000</td>\n",
       "      <td>[편하, 잔잔]</td>\n",
       "      <td>[(R&amp;B, 25), ('10-, 18), (Soul, 15), (인디음악, 12)...</td>\n",
       "      <td>[R&amp;B, '10-, Soul, 인디음악, 록]</td>\n",
       "      <td>[까페, 잔잔한, 편하, 잔잔, R&amp;B, '10-, Soul, 인디음악, 록]</td>\n",
       "    </tr>\n",
       "  </tbody>\n",
       "</table>\n",
       "</div>"
      ],
      "text/plain": [
       "        tags     id           plylst_title  \\\n",
       "0        [락]  61281                여행같은 음악   \n",
       "1   [추억, 회상]  10532                요즘 너 말야   \n",
       "2  [까페, 잔잔한]  76951  편하게, 잔잔하게 들을 수 있는 곡.-   \n",
       "\n",
       "                                               songs  like_cnt  \\\n",
       "0  [525514, 129701, 383374, 562083, 297861, 13954...        71   \n",
       "1  [432406, 675945, 497066, 120377, 389529, 24427...         1   \n",
       "2  [83116, 276692, 166267, 186301, 354465, 256598...        17   \n",
       "\n",
       "                 updt_date plyst_title_pos  \\\n",
       "0  2013-12-19 18:36:19.000        [여행, 음악]   \n",
       "1  2014-12-02 16:19:42.000            [요즘]   \n",
       "2  2017-08-28 07:09:34.000        [편하, 잔잔]   \n",
       "\n",
       "                                               genre  \\\n",
       "0  [(POP, 10), (록, 10), (메탈, 10), (포크, 6), (얼터너티브...   \n",
       "1  [(록, 16), ('10-, 16), (발라드, 11), (메탈, 11), ('0...   \n",
       "2  [(R&B, 25), ('10-, 18), (Soul, 15), (인디음악, 12)...   \n",
       "\n",
       "                    genre_kor                                     all_word  \n",
       "0    [POP, 록, 메탈, 포크, 얼터너티브팝]          [락, 여행, 음악, POP, 록, 메탈, 포크, 얼터너티브팝]  \n",
       "1     [록, '10-, 발라드, 메탈, '00]          [추억, 회상, 요즘, 록, '10-, 발라드, 메탈, '00]  \n",
       "2  [R&B, '10-, Soul, 인디음악, 록]  [까페, 잔잔한, 편하, 잔잔, R&B, '10-, Soul, 인디음악, 록]  "
      ]
     },
     "execution_count": 10,
     "metadata": {},
     "output_type": "execute_result"
    }
   ],
   "source": [
    "train.head(3)"
   ]
  },
  {
   "cell_type": "code",
   "execution_count": 11,
   "metadata": {},
   "outputs": [],
   "source": [
    "train['all_word'] = train.tags + train.genre_kor\n",
    "test['all_word'] = test.tags + test.genre_kor"
   ]
  },
  {
   "cell_type": "code",
   "execution_count": 12,
   "metadata": {},
   "outputs": [],
   "source": [
    "def get_wv_mean(word_list):\n",
    "    wv_mean = []\n",
    "    for w in word_list:\n",
    "        try:\n",
    "            wv_mean.append(np.array(w2v.wv[w]))\n",
    "        except Exception as e:\n",
    "            pass\n",
    "    if not wv_mean:\n",
    "        return []\n",
    "    return np.array(wv_mean).mean(axis=0)"
   ]
  },
  {
   "cell_type": "code",
   "execution_count": 13,
   "metadata": {},
   "outputs": [],
   "source": [
    "# w2v.most_similar(['락', '여행', '음악', 'POP', '록', '메탈', '포크', '얼터너티브팝'])"
   ]
  },
  {
   "cell_type": "code",
   "execution_count": 14,
   "metadata": {},
   "outputs": [],
   "source": [
    "train['vectored'] = train.all_word.apply(lambda e: get_wv_mean(e))"
   ]
  },
  {
   "cell_type": "code",
   "execution_count": 15,
   "metadata": {},
   "outputs": [],
   "source": [
    "test['vectored'] = test.all_word.apply(lambda e: get_wv_mean(e))"
   ]
  },
  {
   "cell_type": "code",
   "execution_count": 16,
   "metadata": {},
   "outputs": [
    {
     "data": {
      "text/plain": [
       "615142"
      ]
     },
     "execution_count": 16,
     "metadata": {},
     "output_type": "execute_result"
    }
   ],
   "source": [
    "song_count = dict(Counter([__ for _ in train.songs for __ in _]))\n",
    "len(song_count)"
   ]
  },
  {
   "cell_type": "code",
   "execution_count": 17,
   "metadata": {},
   "outputs": [
    {
     "data": {
      "text/plain": [
       "29160"
      ]
     },
     "execution_count": 17,
     "metadata": {},
     "output_type": "execute_result"
    }
   ],
   "source": [
    "tag_count = dict(Counter([__ for _ in train.tags for __ in _]))\n",
    "len(tag_count)"
   ]
  },
  {
   "cell_type": "code",
   "execution_count": 18,
   "metadata": {},
   "outputs": [],
   "source": [
    "sorted_songs = sorted(song_count.items(), key=lambda x: -x[1])\n",
    "top_songs   = [x[0] for x in sorted_songs[:1000]]\n",
    "# top_songs"
   ]
  },
  {
   "cell_type": "code",
   "execution_count": 19,
   "metadata": {},
   "outputs": [],
   "source": [
    "sorted_tag = sorted(tag_count.items(), key=lambda x: -x[1])\n",
    "top_tags   = [x[0] for x in sorted_tag[:100]]\n",
    "# top_tags"
   ]
  },
  {
   "cell_type": "code",
   "execution_count": 20,
   "metadata": {},
   "outputs": [
    {
     "name": "stdout",
     "output_type": "stream",
     "text": [
      "train set: 115071, test set: 23015\n"
     ]
    }
   ],
   "source": [
    "# train test split\n",
    "songs_train = train.songs.tolist()\n",
    "songs_test = test.songs.tolist()\n",
    "\n",
    "tags_train = train.tags.tolist()\n",
    "tags_test  = test.tags.tolist()\n",
    "\n",
    "w2v_train = train.vectored.tolist()\n",
    "w2v_test = test.vectored.tolist()\n",
    "\n",
    "ids_test   = test.id.tolist()\n",
    "\n",
    "print(f\"train set: {len(songs_train)}, test set: {len(songs_test)}\")"
   ]
  },
  {
   "cell_type": "code",
   "execution_count": 21,
   "metadata": {},
   "outputs": [
    {
     "name": "stdout",
     "output_type": "stream",
     "text": [
      "number of item: 615142, number of tags: 29160\n"
     ]
    }
   ],
   "source": [
    "# vectorizor\n",
    "\n",
    "from itertools import groupby\n",
    "vectored_train    = []\n",
    "vectored_item_ids = {}\n",
    "vectored_tags     = {}\n",
    "idx = 0\n",
    "\n",
    "for i, l in enumerate(songs_train):\n",
    "    view = l\n",
    "    for item_id in view:\n",
    "        if item_id not in vectored_item_ids:\n",
    "            vectored_item_ids[item_id] = idx\n",
    "            idx += 1\n",
    "    view = [vectored_item_ids[x] for x in view]\n",
    "    vectored_train.append(view)\n",
    "\n",
    "n_items = 0\n",
    "for i, tags in enumerate(tags_train):\n",
    "    for tag in tags:\n",
    "        if tag not in vectored_tags:\n",
    "            vectored_tags[tag] = n_items + idx\n",
    "            idx += 1\n",
    "    vectored_train[i].extend([vectored_tags[x] for x in tags])\n",
    "n_items = len(vectored_item_ids)\n",
    "n_tags = len(vectored_tags)\n",
    "\n",
    "print(f\"number of item: {n_items}, number of tags: {n_tags}\")"
   ]
  },
  {
   "cell_type": "code",
   "execution_count": 22,
   "metadata": {},
   "outputs": [],
   "source": [
    "for i, wv_trn in enumerate(w2v_train):\n",
    "    vectored_train[i].extend(wv_trn)"
   ]
  },
  {
   "cell_type": "code",
   "execution_count": 23,
   "metadata": {},
   "outputs": [],
   "source": [
    "# In[7]:\n",
    "\n",
    "\n",
    "vectored_test = []\n",
    "\n",
    "for i, l in enumerate(songs_test):\n",
    "    view = l\n",
    "    ret = []\n",
    "    for item_id in view:\n",
    "        if item_id not in vectored_item_ids:\n",
    "            continue\n",
    "        ret.append(vectored_item_ids[item_id])\n",
    "    vectored_test.append(ret)\n",
    "\n",
    "for i, tags in enumerate(tags_test):\n",
    "    ret = []\n",
    "    for tag in tags:\n",
    "        if tag not in vectored_tags:\n",
    "            continue\n",
    "        ret.append(tag)\n",
    "    vectored_test[i].extend([vectored_tags[x] for x in ret])"
   ]
  },
  {
   "cell_type": "code",
   "execution_count": 24,
   "metadata": {},
   "outputs": [],
   "source": [
    "for i, wv_tst in enumerate(w2v_test):\n",
    "    vectored_test[i].extend(wv_tst)\n"
   ]
  },
  {
   "cell_type": "code",
   "execution_count": 25,
   "metadata": {},
   "outputs": [],
   "source": [
    "# In[8]:\n",
    "\n",
    "\n",
    "vectored_train = shuffle(vectored_train)\n",
    "vectored_item_ids = {x:y for(y,x) in vectored_item_ids.items()}\n",
    "vectored_tags = {(x - n_items):y for(y,x) in vectored_tags.items()}"
   ]
  },
  {
   "cell_type": "code",
   "execution_count": 26,
   "metadata": {},
   "outputs": [],
   "source": [
    "# In[9]:\n",
    "\n",
    "\n",
    "from scipy.sparse import csr_matrix\n",
    "\n",
    "row, col, value = [],[],[]\n",
    "for i, n in enumerate(vectored_train):\n",
    "    row.extend([i]*len(n))\n",
    "    col.extend(np.arange(len(n)))\n",
    "    value.extend(n)\n",
    "\n",
    "csr_train = csr_matrix((value, (row, col)))"
   ]
  },
  {
   "cell_type": "code",
   "execution_count": 27,
   "metadata": {},
   "outputs": [],
   "source": [
    "# In[10]:\n",
    "\n",
    "\n",
    "row, col, value = [],[],[]\n",
    "for i, n in enumerate(vectored_train):\n",
    "    row.extend([i]*len(n))\n",
    "    col.extend(np.arange(len(n)))\n",
    "    value.extend(n)\n",
    "\n",
    "csr_test  = csr_matrix((value, (row, col)))"
   ]
  },
  {
   "cell_type": "code",
   "execution_count": 28,
   "metadata": {},
   "outputs": [],
   "source": [
    "# In[11]:\n",
    "\n",
    "\n",
    "from scipy.sparse import vstack\n",
    "csr_whole = vstack([csr_test, csr_train])\n",
    "csr_whole = csr_matrix(csr_whole)"
   ]
  },
  {
   "cell_type": "code",
   "execution_count": 29,
   "metadata": {},
   "outputs": [
    {
     "name": "stderr",
     "output_type": "stream",
     "text": [
      "WARNING:root:Intel MKL BLAS detected. Its highly recommend to set the environment variable 'export MKL_NUM_THREADS=1' to disable its internal multithreading\n"
     ]
    },
    {
     "data": {
      "application/vnd.jupyter.widget-view+json": {
       "model_id": "cfcef6942f3045fb9a80601c597bac69",
       "version_major": 2,
       "version_minor": 0
      },
      "text/plain": [
       "HBox(children=(IntProgress(value=0, max=15), HTML(value='')))"
      ]
     },
     "metadata": {},
     "output_type": "display_data"
    },
    {
     "name": "stdout",
     "output_type": "stream",
     "text": [
      "\n"
     ]
    }
   ],
   "source": [
    "# In[13]:\n",
    "\n",
    "\n",
    "als_model = ALS(factors=128, regularization=0.08)\n",
    "als_model.fit(csr_whole.T * 15.0)"
   ]
  },
  {
   "cell_type": "code",
   "execution_count": 30,
   "metadata": {},
   "outputs": [],
   "source": [
    "# In[14]:\n",
    "\n",
    "\n",
    "item_model = ALS(use_gpu=False)\n",
    "tag_model = ALS(use_gpu=False)\n",
    "item_model.user_factors = als_model.user_factors\n",
    "tag_model.user_factors = als_model.user_factors"
   ]
  },
  {
   "cell_type": "code",
   "execution_count": 31,
   "metadata": {},
   "outputs": [],
   "source": [
    "# In[15]:\n",
    "\n",
    "\n",
    "item_model.item_factors = als_model.item_factors[:n_items]\n",
    "tag_model.item_factors = als_model.item_factors[n_items:]\n",
    "\n",
    "item_rec_csr = csr_train[:, :n_items]\n",
    "tag_rec_csr = csr_train[:, n_items:]"
   ]
  },
  {
   "cell_type": "code",
   "execution_count": 32,
   "metadata": {},
   "outputs": [
    {
     "data": {
      "application/vnd.jupyter.widget-view+json": {
       "model_id": "4ddff9fd1164481e80dc5b5b2c147d3b",
       "version_major": 2,
       "version_minor": 0
      },
      "text/plain": [
       "HBox(children=(IntProgress(value=0, max=115071), HTML(value='')))"
      ]
     },
     "metadata": {},
     "output_type": "display_data"
    },
    {
     "name": "stdout",
     "output_type": "stream",
     "text": [
      "\n"
     ]
    }
   ],
   "source": [
    "# In[16]:\n",
    "\n",
    "\n",
    "item_ret = []\n",
    "tag_ret = []\n",
    "from tqdm.auto import tqdm\n",
    "for u in tqdm(range(csr_test.shape[0])):\n",
    "    item_rec = item_model.recommend(u, item_rec_csr, N=250)\n",
    "    item_rec = [vectored_item_ids[x[0]] for x in item_rec]\n",
    "    tag_rec = tag_model.recommend(u, tag_rec_csr, N=250)\n",
    "    tag_rec = [vectored_tags[x[0]] for x in tag_rec if x[0] in vectored_tags]\n",
    "    item_ret.append(item_rec)\n",
    "    tag_ret.append(tag_rec)"
   ]
  },
  {
   "cell_type": "code",
   "execution_count": 33,
   "metadata": {},
   "outputs": [
    {
     "data": {
      "text/plain": [
       "array([], shape=(0, 128), dtype=float32)"
      ]
     },
     "execution_count": 33,
     "metadata": {},
     "output_type": "execute_result"
    }
   ],
   "source": [
    "# In[18]:\n",
    "\n",
    "\n",
    "tag_model.item_factors"
   ]
  },
  {
   "cell_type": "code",
   "execution_count": 34,
   "metadata": {},
   "outputs": [],
   "source": [
    "# In[19]:\n",
    "\n",
    "\n",
    "returnval = []\n",
    "for _id, rec, base, tag_rec, tag_base in zip(ids_test, item_ret, songs_train, tag_ret, tags_train):\n",
    "    rec = [r for r in rec if r not in base][:100]\n",
    "    tags = [r for r in tag_rec if r not in tag_base][:10]\n",
    "    if len(rec) != 100:\n",
    "        rec += [t for t in top_songs if (t not in base) and (t not in rec)][:(100 - len(rec))]\n",
    "    if len(tags) != 10:\n",
    "        tags += [t for t in top_tags if (t not in tag_base) and (t not in tags)][:(10 - len(tags))]\n",
    "    returnval.append({\n",
    "        \"id\": _id,\n",
    "        \"songs\": rec,\n",
    "        \"tags\": tags\n",
    "    })"
   ]
  },
  {
   "cell_type": "code",
   "execution_count": 35,
   "metadata": {},
   "outputs": [],
   "source": [
    "import json\n",
    "with open('results.json', 'w', encoding='utf-8') as f:\n",
    "    f.write(json.dumps(returnval, ensure_ascii=False))"
   ]
  },
  {
   "cell_type": "code",
   "execution_count": null,
   "metadata": {},
   "outputs": [],
   "source": []
  },
  {
   "cell_type": "code",
   "execution_count": null,
   "metadata": {},
   "outputs": [],
   "source": []
  },
  {
   "cell_type": "code",
   "execution_count": null,
   "metadata": {},
   "outputs": [],
   "source": []
  },
  {
   "cell_type": "code",
   "execution_count": null,
   "metadata": {},
   "outputs": [],
   "source": []
  },
  {
   "cell_type": "code",
   "execution_count": null,
   "metadata": {},
   "outputs": [],
   "source": []
  },
  {
   "cell_type": "code",
   "execution_count": null,
   "metadata": {},
   "outputs": [],
   "source": []
  },
  {
   "cell_type": "code",
   "execution_count": null,
   "metadata": {},
   "outputs": [],
   "source": []
  }
 ],
 "metadata": {
  "kernelspec": {
   "display_name": "Python 3",
   "language": "python",
   "name": "python3"
  },
  "language_info": {
   "codemirror_mode": {
    "name": "ipython",
    "version": 3
   },
   "file_extension": ".py",
   "mimetype": "text/x-python",
   "name": "python",
   "nbconvert_exporter": "python",
   "pygments_lexer": "ipython3",
   "version": "3.6.10"
  }
 },
 "nbformat": 4,
 "nbformat_minor": 2
}
