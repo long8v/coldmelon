{
 "cells": [
  {
   "cell_type": "markdown",
   "metadata": {},
   "source": [
    "# 파일 입출력 설정\n",
    "- json 파일을 읽고 저장하도록 세팅"
   ]
  },
  {
   "cell_type": "code",
   "execution_count": 1,
   "metadata": {},
   "outputs": [],
   "source": [
    "import io\n",
    "import os\n",
    "import json\n",
    "import distutils.dir_util\n",
    "from collections import Counter\n",
    "\n",
    "import numpy as np\n",
    "\n",
    "def write_json(data, fname):\n",
    "    def _conv(o):\n",
    "        if isinstance(o, np.int64) or isinstance(o, np.int32):\n",
    "            return int(o)\n",
    "        raise TypeError\n",
    "\n",
    "    parent = os.path.dirname(fname)\n",
    "    distutils.dir_util.mkpath(\"./\" + parent)\n",
    "    with io.open(\"./\" + fname, \"w\", encoding=\"utf8\") as f:\n",
    "        json_str = json.dumps(data, ensure_ascii=False, default=_conv)\n",
    "        f.write(json_str)\n",
    "\n",
    "\n",
    "def load_json(fname):\n",
    "    with open(fname, encoding='utf8') as f:\n",
    "        json_obj = json.load(f)\n",
    "\n",
    "    return json_obj\n",
    "\n",
    "\n",
    "def debug_json(r):\n",
    "    print(json.dumps(r, ensure_ascii=False, indent=4))"
   ]
  },
  {
   "cell_type": "markdown",
   "metadata": {},
   "source": [
    "# 채점 모듈 세팅\n",
    "- ndcg 를 구현합니다\n",
    "- 향후 다른 방식을 쓰더라도 적용이 가능할 것으로 보입니다."
   ]
  },
  {
   "cell_type": "code",
   "execution_count": 120,
   "metadata": {},
   "outputs": [],
   "source": [
    "import numpy as np\n",
    "\n",
    "# from arena_util import load_json\n",
    "\n",
    "\n",
    "class CustomEvaluator:\n",
    "    def _idcg(self, l):\n",
    "        return sum((1.0 / np.log(i + 2) for i in range(l)))\n",
    "\n",
    "    def __init__(self):\n",
    "        self._idcgs = [self._idcg(i) for i in range(101)]\n",
    "        \n",
    "    def _ndcg(self, gt, rec):\n",
    "        dcg = 0.0\n",
    "        for i, r in enumerate(rec):\n",
    "            if r in gt:\n",
    "                dcg += 1.0 / np.log(i + 2)\n",
    "\n",
    "        return dcg / self._idcgs[len(gt)]\n",
    "\n",
    "    def _eval(self, gt_fname, rec_fname):\n",
    "        gt_playlists = load_json(gt_fname)\n",
    "        gt_dict = {g[\"id\"]: g for g in gt_playlists}\n",
    "        rec_playlists = load_json(rec_fname)\n",
    "        \n",
    "        music_ndcg = 0.0\n",
    "        tag_ndcg = 0.0\n",
    "        \n",
    "        for rec in rec_playlists:\n",
    "            gt = gt_dict[rec[\"id\"]]\n",
    "            music_ndcg += self._ndcg(gt[\"songs\"], rec[\"songs\"][:100])\n",
    "            tag_ndcg += self._ndcg(gt[\"tags\"], rec[\"tags\"][:10])\n",
    "            \n",
    "            print(music_ndcg, tag_ndcg)\n",
    "            \n",
    "        music_ndcg = music_ndcg / len(rec_playlists)\n",
    "        tag_ndcg = tag_ndcg / len(rec_playlists)\n",
    "        score = music_ndcg * 0.85 + tag_ndcg * 0.15\n",
    "\n",
    "        return music_ndcg, tag_ndcg, score\n",
    "\n",
    "    def evaluate(self, gt_fname, rec_fname):\n",
    "        try:\n",
    "            music_ndcg, tag_ndcg, score = self._eval(gt_fname, rec_fname)\n",
    "            print(f\"Music nDCG: {music_ndcg:.6}\")\n",
    "            print(f\"Tag nDCG: {tag_ndcg:.6}\")\n",
    "            print(f\"Score: {score:.6}\")\n",
    "        except Exception as e:\n",
    "            print(e)"
   ]
  },
  {
   "cell_type": "code",
   "execution_count": 7,
   "metadata": {},
   "outputs": [],
   "source": [
    "import pickle\n",
    "import numpy as np\n",
    "import pandas as pd\n",
    "import scipy.sparse as spr\n",
    "from collections import Counter\n",
    "\n",
    "song_meta = pd.read_json(\"./../data/song_meta.json\")\n",
    "train = pd.read_json(\"./../data/train.json\")\n",
    "test = pd.read_json(\"./../data/val.json\")"
   ]
  },
  {
   "cell_type": "code",
   "execution_count": 8,
   "metadata": {},
   "outputs": [
    {
     "data": {
      "text/plain": [
       "23015"
      ]
     },
     "execution_count": 8,
     "metadata": {},
     "output_type": "execute_result"
    }
   ],
   "source": [
    "len(test)"
   ]
  },
  {
   "cell_type": "code",
   "execution_count": 9,
   "metadata": {},
   "outputs": [
    {
     "data": {
      "text/plain": [
       "115071"
      ]
     },
     "execution_count": 9,
     "metadata": {},
     "output_type": "execute_result"
    }
   ],
   "source": [
    "len(train)"
   ]
  },
  {
   "cell_type": "code",
   "execution_count": 10,
   "metadata": {},
   "outputs": [
    {
     "data": {
      "text/plain": [
       "23015"
      ]
     },
     "execution_count": 10,
     "metadata": {},
     "output_type": "execute_result"
    }
   ],
   "source": [
    "len(test)"
   ]
  },
  {
   "cell_type": "markdown",
   "metadata": {},
   "source": [
    "# 데이터셋 생성\n",
    "- train data, test data를 concat 하여 하나의 큰 데이터를 만들고 간단한 전처리 진행합니다.\n",
    "- 밑에 train test split 하고 학습은 train 만 씁니다."
   ]
  },
  {
   "cell_type": "code",
   "execution_count": 11,
   "metadata": {},
   "outputs": [],
   "source": [
    "train['istrain'] = 1\n",
    "test['istrain'] = 0\n",
    "\n",
    "n_train = len(train)\n",
    "n_test = len(test)\n",
    "\n",
    "# train + test\n",
    "plylst = pd.concat([train, test], ignore_index=True)\n",
    "\n",
    "# playlist id\n",
    "plylst[\"nid\"] = range(n_train + n_test)\n",
    "\n",
    "# id <-> nid\n",
    "plylst_id_nid = dict(zip(plylst[\"id\"],plylst[\"nid\"]))\n",
    "plylst_nid_id = dict(zip(plylst[\"nid\"],plylst[\"id\"]))"
   ]
  },
  {
   "cell_type": "code",
   "execution_count": 12,
   "metadata": {},
   "outputs": [
    {
     "data": {
      "text/plain": [
       "23015"
      ]
     },
     "execution_count": 12,
     "metadata": {},
     "output_type": "execute_result"
    }
   ],
   "source": [
    "n_test"
   ]
  },
  {
   "cell_type": "markdown",
   "metadata": {},
   "source": [
    "# index 부여\n",
    "- 기존에 부여된 ID를 관리하기 쉽도록 인덱스로 바꿔줍니다.\n",
    "- tag와 song 각각 따로 관리합니다."
   ]
  },
  {
   "cell_type": "code",
   "execution_count": 13,
   "metadata": {},
   "outputs": [],
   "source": [
    "plylst_tag = plylst['tags']\n",
    "tag_counter = Counter([tg for tgs in plylst_tag for tg in tgs])\n",
    "tag_dict = {x: tag_counter[x] for x in tag_counter}\n",
    "\n",
    "tag_id_tid = dict()\n",
    "tag_tid_id = dict()\n",
    "for i, t in enumerate(tag_dict):\n",
    "    tag_id_tid[t] = i\n",
    "    tag_tid_id[i] = t\n",
    "\n",
    "n_tags = len(tag_dict)\n",
    "\n",
    "plylst_song = plylst['songs']\n",
    "song_counter = Counter([sg for sgs in plylst_song for sg in sgs])\n",
    "song_dict = {x: song_counter[x] for x in song_counter}\n",
    "\n",
    "song_id_sid = dict()\n",
    "song_sid_id = dict()\n",
    "for i, t in enumerate(song_dict):\n",
    "    song_id_sid[t] = i\n",
    "    song_sid_id[i] = t\n",
    "\n",
    "n_songs = len(song_dict)"
   ]
  },
  {
   "cell_type": "code",
   "execution_count": 14,
   "metadata": {},
   "outputs": [],
   "source": [
    "plylst['songs_id'] = plylst['songs'].map(lambda x: [song_id_sid.get(s) for s in x if song_id_sid.get(s) != None])\n",
    "plylst['tags_id'] = plylst['tags'].map(lambda x: [tag_id_tid.get(t) for t in x if tag_id_tid.get(t) != None])"
   ]
  },
  {
   "cell_type": "code",
   "execution_count": 15,
   "metadata": {},
   "outputs": [
    {
     "name": "stderr",
     "output_type": "stream",
     "text": [
      "/Users/jonghyunlee/anaconda3/lib/python3.7/site-packages/pandas/core/indexing.py:376: SettingWithCopyWarning: \n",
      "A value is trying to be set on a copy of a slice from a DataFrame.\n",
      "Try using .loc[row_indexer,col_indexer] = value instead\n",
      "\n",
      "See the caveats in the documentation: http://pandas.pydata.org/pandas-docs/stable/user_guide/indexing.html#returning-a-view-versus-a-copy\n",
      "  self.obj[key] = _infer_fill_value(value)\n",
      "/Users/jonghyunlee/anaconda3/lib/python3.7/site-packages/pandas/core/indexing.py:494: SettingWithCopyWarning: \n",
      "A value is trying to be set on a copy of a slice from a DataFrame.\n",
      "Try using .loc[row_indexer,col_indexer] = value instead\n",
      "\n",
      "See the caveats in the documentation: http://pandas.pydata.org/pandas-docs/stable/user_guide/indexing.html#returning-a-view-versus-a-copy\n",
      "  self.obj[item] = s\n"
     ]
    }
   ],
   "source": [
    "plylst_use = plylst[['istrain','nid','updt_date','songs_id','tags_id']]\n",
    "\n",
    "# 곡의 개수와 태그의 개수를 할당\n",
    "plylst_use.loc[:,'num_songs'] = plylst_use['songs_id'].map(len)\n",
    "plylst_use.loc[:,'num_tags'] = plylst_use['tags_id'].map(len)\n",
    "plylst_use = plylst_use.set_index('nid')"
   ]
  },
  {
   "cell_type": "code",
   "execution_count": 16,
   "metadata": {},
   "outputs": [],
   "source": [
    "# train test split\n",
    "plylst_train = plylst_use.iloc[:n_train,:]\n",
    "plylst_test = plylst_use.iloc[n_train:,:]"
   ]
  },
  {
   "cell_type": "code",
   "execution_count": 17,
   "metadata": {},
   "outputs": [
    {
     "data": {
      "text/plain": [
       "23015"
      ]
     },
     "execution_count": 17,
     "metadata": {},
     "output_type": "execute_result"
    }
   ],
   "source": [
    "len(plylst_test)"
   ]
  },
  {
   "cell_type": "code",
   "execution_count": 18,
   "metadata": {},
   "outputs": [
    {
     "data": {
      "text/plain": [
       "115071"
      ]
     },
     "execution_count": 18,
     "metadata": {},
     "output_type": "execute_result"
    }
   ],
   "source": [
    "n_train"
   ]
  },
  {
   "cell_type": "code",
   "execution_count": 19,
   "metadata": {},
   "outputs": [],
   "source": [
    "# csr (compressed sparse row matrix 생성)\n",
    "row = np.repeat(range(n_train), plylst_train['num_songs'])\n",
    "col = [song for songs in plylst_train['songs_id'] for song in songs]\n",
    "dat = np.repeat(1, plylst_train['num_songs'].sum())\n",
    "train_songs_A = spr.csr_matrix((dat, (row, col)), shape=(n_train, n_songs))\n",
    "\n",
    "row = np.repeat(range(n_train), plylst_train['num_tags'])\n",
    "col = [tag for tags in plylst_train['tags_id'] for tag in tags]\n",
    "dat = np.repeat(1, plylst_train['num_tags'].sum())\n",
    "train_tags_A = spr.csr_matrix((dat, (row, col)), shape=(n_train, n_tags))\n",
    "\n",
    "train_songs_A_T = train_songs_A.T.tocsr()\n",
    "train_tags_A_T = train_tags_A.T.tocsr()"
   ]
  },
  {
   "cell_type": "code",
   "execution_count": 82,
   "metadata": {},
   "outputs": [],
   "source": [
    "# csr (compressed sparse row matrix 생성)\n",
    "row = np.repeat(range(n_test), plylst_test['num_songs'])\n",
    "col = [song for songs in plylst_test['songs_id'] for song in songs]\n",
    "dat = np.repeat(1, plylst_test['num_songs'].sum())\n",
    "test_songs_A = spr.csr_matrix((dat, (row, col)), shape=(n_test, n_songs))\n",
    "\n",
    "row = np.repeat(range(n_test), plylst_test['num_tags'])\n",
    "col = [tag for tags in plylst_test['tags_id'] for tag in tags]\n",
    "dat = np.repeat(1, plylst_test['num_tags'].sum())\n",
    "test_tags_A = spr.csr_matrix((dat, (row, col)), shape=(n_test, n_tags))"
   ]
  },
  {
   "cell_type": "code",
   "execution_count": 84,
   "metadata": {},
   "outputs": [
    {
     "data": {
      "text/plain": [
       "(23015, 638336)"
      ]
     },
     "execution_count": 84,
     "metadata": {},
     "output_type": "execute_result"
    }
   ],
   "source": [
    "test_songs_A.toarray().shape"
   ]
  },
  {
   "cell_type": "code",
   "execution_count": 85,
   "metadata": {},
   "outputs": [
    {
     "data": {
      "text/plain": [
       "(23015, 30197)"
      ]
     },
     "execution_count": 85,
     "metadata": {},
     "output_type": "execute_result"
    }
   ],
   "source": [
    "test_tags_A.toarray().shape"
   ]
  },
  {
   "cell_type": "code",
   "execution_count": 75,
   "metadata": {
    "scrolled": true
   },
   "outputs": [
    {
     "data": {
      "text/plain": [
       "(115071, 30197)"
      ]
     },
     "execution_count": 75,
     "metadata": {},
     "output_type": "execute_result"
    }
   ],
   "source": [
    "train_tags_A.toarray().shape"
   ]
  },
  {
   "cell_type": "code",
   "execution_count": 76,
   "metadata": {},
   "outputs": [
    {
     "data": {
      "text/plain": [
       "(115071, 638336)"
      ]
     },
     "execution_count": 76,
     "metadata": {},
     "output_type": "execute_result"
    }
   ],
   "source": [
    "train_songs_A.toarray().shape"
   ]
  },
  {
   "cell_type": "code",
   "execution_count": 80,
   "metadata": {},
   "outputs": [
    {
     "data": {
      "text/plain": [
       "(array([0, 0, 0, 0, 0, 0, 0, 0, 0, 0, 0, 0, 0, 0, 0, 0, 0, 0, 0]),\n",
       " array([ 0,  1,  2,  3,  4,  5,  6,  7,  8,  9, 10, 11, 12, 13, 14, 15, 16,\n",
       "        17, 18]))"
      ]
     },
     "execution_count": 80,
     "metadata": {},
     "output_type": "execute_result"
    }
   ],
   "source": [
    "np.where(train_songs_A[0].toarray() > 0)"
   ]
  },
  {
   "cell_type": "code",
   "execution_count": 81,
   "metadata": {},
   "outputs": [
    {
     "data": {
      "text/plain": [
       "(array([0]), array([0]))"
      ]
     },
     "execution_count": 81,
     "metadata": {},
     "output_type": "execute_result"
    }
   ],
   "source": [
    "np.where(train_tags_A[0].toarray() > 0)"
   ]
  },
  {
   "cell_type": "code",
   "execution_count": 87,
   "metadata": {},
   "outputs": [],
   "source": [
    "train_merged_feature_csr = hstack([train_songs_A, train_tags_A])\n",
    "test_merged_feature_csr  = hstack([test_songs_A, test_tags_A])\n",
    "\n",
    "whole_datasets_csr       = vstack([train_merged_feature_csr, test_merged_feature_csr])\n",
    "whole_datasets_csr_T     = whole_datasets_csr.T.tocsr()"
   ]
  },
  {
   "cell_type": "code",
   "execution_count": 88,
   "metadata": {},
   "outputs": [
    {
     "data": {
      "text/plain": [
       "(668533, 138086)"
      ]
     },
     "execution_count": 88,
     "metadata": {},
     "output_type": "execute_result"
    }
   ],
   "source": [
    "whole_datasets_csr_T.toarray().shape"
   ]
  },
  {
   "cell_type": "code",
   "execution_count": 89,
   "metadata": {},
   "outputs": [
    {
     "data": {
      "application/vnd.jupyter.widget-view+json": {
       "model_id": "ea7baec2ea894b628272a59ccf2075a7",
       "version_major": 2,
       "version_minor": 0
      },
      "text/plain": [
       "HBox(children=(FloatProgress(value=0.0, max=15.0), HTML(value='')))"
      ]
     },
     "metadata": {},
     "output_type": "display_data"
    },
    {
     "name": "stdout",
     "output_type": "stream",
     "text": [
      "\n"
     ]
    }
   ],
   "source": [
    "from implicit.evaluation import  *\n",
    "from implicit.als import AlternatingLeastSquares as ALS\n",
    "from scipy.sparse import hstack, vstack\n",
    "\n",
    "als_model = ALS(factors=128, regularization=0.08)\n",
    "als_model.fit(whole_datasets_csr_T * 15.0)"
   ]
  },
  {
   "cell_type": "code",
   "execution_count": 95,
   "metadata": {},
   "outputs": [],
   "source": [
    "song_model = ALS(use_gpu=False)\n",
    "tag_model = ALS(use_gpu=False)\n",
    "song_model.user_factors = als_model.user_factors\n",
    "tag_model.user_factors = als_model.user_factors"
   ]
  },
  {
   "cell_type": "code",
   "execution_count": 97,
   "metadata": {},
   "outputs": [
    {
     "name": "stdout",
     "output_type": "stream",
     "text": [
      "(638336, 128)\n",
      "(30197, 128)\n"
     ]
    }
   ],
   "source": [
    "song_model.item_factors = als_model.item_factors[:n_songs]\n",
    "tag_model.item_factors  = als_model.item_factors[n_songs:]\n",
    "\n",
    "print(song_model.item_factors.shape)\n",
    "print(tag_model.item_factors.shape)"
   ]
  },
  {
   "cell_type": "code",
   "execution_count": 151,
   "metadata": {},
   "outputs": [],
   "source": [
    "song_rec_csr = test_songs_A\n",
    "tag_rec_csr = test_tags_A"
   ]
  },
  {
   "cell_type": "code",
   "execution_count": 154,
   "metadata": {},
   "outputs": [
    {
     "data": {
      "text/plain": [
       "(23015, 638336)"
      ]
     },
     "execution_count": 154,
     "metadata": {},
     "output_type": "execute_result"
    }
   ],
   "source": [
    "song_rec_csr.toarray().shape"
   ]
  },
  {
   "cell_type": "code",
   "execution_count": 173,
   "metadata": {},
   "outputs": [
    {
     "data": {
      "text/plain": [
       "array([     1,      2,      3, ..., 153426, 153427, 153428])"
      ]
     },
     "execution_count": 173,
     "metadata": {},
     "output_type": "execute_result"
    }
   ],
   "source": [
    "np.sort(np.array(list(plylst_nid_id.values())))"
   ]
  },
  {
   "cell_type": "code",
   "execution_count": 174,
   "metadata": {},
   "outputs": [
    {
     "data": {
      "text/plain": [
       "array([127907, 127908, 127909, ..., 153426, 153427, 153428])"
      ]
     },
     "execution_count": 174,
     "metadata": {},
     "output_type": "execute_result"
    }
   ],
   "source": [
    "np.sort(np.array(list(plylst_nid_id.values())))[n_train:]"
   ]
  },
  {
   "cell_type": "code",
   "execution_count": 180,
   "metadata": {
    "scrolled": false
   },
   "outputs": [
    {
     "data": {
      "application/vnd.jupyter.widget-view+json": {
       "model_id": "e1241afd27e24631b50b84fb4a13c452",
       "version_major": 2,
       "version_minor": 0
      },
      "text/plain": [
       "HBox(children=(FloatProgress(value=0.0, max=23015.0), HTML(value='')))"
      ]
     },
     "metadata": {},
     "output_type": "display_data"
    },
    {
     "name": "stdout",
     "output_type": "stream",
     "text": [
      "\n",
      "\n"
     ]
    }
   ],
   "source": [
    "res = []\n",
    "\n",
    "from tqdm.auto import tqdm\n",
    "\n",
    "for u in tqdm(range(test_merged_feature_csr.shape[0])):\n",
    "    song_rec = song_model.recommend(u, song_rec_csr, N=100)\n",
    "    song_rec = [song_sid_id[x[0]] for x in song_rec]\n",
    "    \n",
    "    tag_rec = tag_model.recommend(u, tag_rec_csr, N=10)\n",
    "    tag_rec = [tag_tid_id[x[0]] for x in tag_rec]\n",
    "    \n",
    "    res.append({\n",
    "            \"id\": plylst_nid_id[u + n_train],\n",
    "            \"songs\": song_rec,\n",
    "            \"tags\": tag_rec\n",
    "        })"
   ]
  },
  {
   "cell_type": "code",
   "execution_count": null,
   "metadata": {},
   "outputs": [],
   "source": [
    "# 몇 개만 테스트 해볼때\n",
    "\n",
    "np.random.seed(33)\n",
    "n_sample = 30\n",
    "\n",
    "test = plylst_test.iloc[np.random.choice(range(n_test), n_sample, replace=False),:]\n",
    "# test.index"
   ]
  },
  {
   "cell_type": "code",
   "execution_count": 24,
   "metadata": {},
   "outputs": [],
   "source": [
    "# 실제적으로 학습 돌리고 추천해주는 부분\n",
    "# 오래 걸립니다... ALS 등으로 대체가 가능할 것 같습니다. 이 함수는 이 과정을 직접 구현해서 조금 느리지 않나 생각이 드네용!\n",
    "# 이 방법은 추후 테스트 해서 보고드리겠습니다.\n",
    "# 방법 자체는 지난번 미팅 때 말씀드린 것처럼 collective matrix factorizaion 방식입니다. (tag, song 정보 함꼐 이용)\n",
    "\n",
    "# from tqdm import tqdm\n",
    "\n",
    "def rec(pids):\n",
    "    tt = 1\n",
    "    res = []\n",
    "\n",
    "    for pid in pids:\n",
    "        p = np.zeros((n_songs,1))\n",
    "        p[test.loc[pid,'songs_id']] = 1\n",
    "\n",
    "        val = train_songs_A.dot(p).reshape(-1)\n",
    "        \n",
    "        # 예측에 기반이 되는 데이터는 채점에 들어가지 않습니다. (test 데이터로 주어진 값들)\n",
    "        songs_already = test.loc[pid, \"songs_id\"]\n",
    "        tags_already = test.loc[pid, \"tags_id\"]\n",
    "\n",
    "        cand_song = train_songs_A_T.dot(val)\n",
    "        cand_song_idx = cand_song.reshape(-1).argsort()[-150:][::-1]\n",
    "\n",
    "        cand_song_idx = cand_song_idx[np.isin(cand_song_idx, songs_already) == False][:100]\n",
    "        rec_song_idx = [song_sid_id[i] for i in cand_song_idx]\n",
    "\n",
    "        cand_tag = train_tags_A_T.dot(val)\n",
    "        cand_tag_idx = cand_tag.reshape(-1).argsort()[-15:][::-1]\n",
    "\n",
    "        cand_tag_idx = cand_tag_idx[np.isin(cand_tag_idx, tags_already) == False][:10]\n",
    "        rec_tag_idx = [tag_tid_id[i] for i in cand_tag_idx]\n",
    "\n",
    "        res.append({\n",
    "                    \"id\": plylst_nid_id[pid],\n",
    "                    \"songs\": rec_song_idx,\n",
    "                    \"tags\": rec_tag_idx\n",
    "                })\n",
    "\n",
    "        if tt % 1000 == 0:\n",
    "            print(tt)\n",
    "\n",
    "        tt += 1\n",
    "\n",
    "    return res"
   ]
  },
  {
   "cell_type": "code",
   "execution_count": 105,
   "metadata": {},
   "outputs": [],
   "source": [
    "answers = rec(test.index[:1])"
   ]
  },
  {
   "cell_type": "code",
   "execution_count": 181,
   "metadata": {},
   "outputs": [],
   "source": [
    "write_json(res, \"results.json\")"
   ]
  },
  {
   "cell_type": "code",
   "execution_count": 182,
   "metadata": {},
   "outputs": [],
   "source": [
    "temp = pd.read_json(\"results.json\")\n",
    "temp_id = np.sort(temp.id.to_numpy())\n",
    "\n",
    "val = pd.read_json(\"./../data/val.json\")\n",
    "val_id = np.sort(val.id.to_numpy())"
   ]
  },
  {
   "cell_type": "code",
   "execution_count": 183,
   "metadata": {},
   "outputs": [
    {
     "data": {
      "text/plain": [
       "array([ 3, 10, 18, 22, 23, 28, 30, 33, 35, 44])"
      ]
     },
     "execution_count": 183,
     "metadata": {},
     "output_type": "execute_result"
    }
   ],
   "source": [
    "temp_id[:10]"
   ]
  },
  {
   "cell_type": "code",
   "execution_count": 184,
   "metadata": {},
   "outputs": [
    {
     "data": {
      "text/plain": [
       "array([ 3, 10, 18, 22, 23, 28, 30, 33, 35, 44])"
      ]
     },
     "execution_count": 184,
     "metadata": {},
     "output_type": "execute_result"
    }
   ],
   "source": [
    "val_id[:10]"
   ]
  },
  {
   "cell_type": "code",
   "execution_count": 185,
   "metadata": {},
   "outputs": [
    {
     "data": {
      "text/plain": [
       "135526"
      ]
     },
     "execution_count": 185,
     "metadata": {},
     "output_type": "execute_result"
    }
   ],
   "source": [
    "plylst_id_nid[3]"
   ]
  },
  {
   "cell_type": "code",
   "execution_count": 186,
   "metadata": {},
   "outputs": [
    {
     "data": {
      "text/html": [
       "<div>\n",
       "<style scoped>\n",
       "    .dataframe tbody tr th:only-of-type {\n",
       "        vertical-align: middle;\n",
       "    }\n",
       "\n",
       "    .dataframe tbody tr th {\n",
       "        vertical-align: top;\n",
       "    }\n",
       "\n",
       "    .dataframe thead th {\n",
       "        text-align: right;\n",
       "    }\n",
       "</style>\n",
       "<table border=\"1\" class=\"dataframe\">\n",
       "  <thead>\n",
       "    <tr style=\"text-align: right;\">\n",
       "      <th></th>\n",
       "      <th>id</th>\n",
       "      <th>songs</th>\n",
       "      <th>tags</th>\n",
       "    </tr>\n",
       "  </thead>\n",
       "  <tbody>\n",
       "  </tbody>\n",
       "</table>\n",
       "</div>"
      ],
      "text/plain": [
       "Empty DataFrame\n",
       "Columns: [id, songs, tags]\n",
       "Index: []"
      ]
     },
     "execution_count": 186,
     "metadata": {},
     "output_type": "execute_result"
    }
   ],
   "source": [
    "temp[temp.id == 135526]"
   ]
  },
  {
   "cell_type": "code",
   "execution_count": 121,
   "metadata": {},
   "outputs": [
    {
     "name": "stdout",
     "output_type": "stream",
     "text": [
      "float division by zero\n"
     ]
    }
   ],
   "source": [
    "evaluator = CustomEvaluator()\n",
    "evaluator.evaluate(\"./../data/val.json\", \"results.json\")"
   ]
  },
  {
   "cell_type": "code",
   "execution_count": null,
   "metadata": {},
   "outputs": [],
   "source": []
  }
 ],
 "metadata": {
  "kernelspec": {
   "display_name": "Python 3",
   "language": "python",
   "name": "python3"
  },
  "language_info": {
   "codemirror_mode": {
    "name": "ipython",
    "version": 3
   },
   "file_extension": ".py",
   "mimetype": "text/x-python",
   "name": "python",
   "nbconvert_exporter": "python",
   "pygments_lexer": "ipython3",
   "version": "3.7.1"
  }
 },
 "nbformat": 4,
 "nbformat_minor": 2
}
