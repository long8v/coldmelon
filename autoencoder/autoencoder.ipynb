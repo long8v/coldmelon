{
 "cells": [
  {
   "cell_type": "code",
   "execution_count": 1,
   "metadata": {},
   "outputs": [],
   "source": [
    "import numpy as np\n",
    "import pandas as pd\n",
    "from collections import Counter"
   ]
  },
  {
   "cell_type": "code",
   "execution_count": 2,
   "metadata": {},
   "outputs": [],
   "source": [
    "train = pd.read_json('../file/train.json', encoding='utf-8')"
   ]
  },
  {
   "cell_type": "code",
   "execution_count": 3,
   "metadata": {},
   "outputs": [
    {
     "data": {
      "text/html": [
       "<div>\n",
       "<style scoped>\n",
       "    .dataframe tbody tr th:only-of-type {\n",
       "        vertical-align: middle;\n",
       "    }\n",
       "\n",
       "    .dataframe tbody tr th {\n",
       "        vertical-align: top;\n",
       "    }\n",
       "\n",
       "    .dataframe thead th {\n",
       "        text-align: right;\n",
       "    }\n",
       "</style>\n",
       "<table border=\"1\" class=\"dataframe\">\n",
       "  <thead>\n",
       "    <tr style=\"text-align: right;\">\n",
       "      <th></th>\n",
       "      <th>tags</th>\n",
       "      <th>id</th>\n",
       "      <th>plylst_title</th>\n",
       "      <th>songs</th>\n",
       "      <th>like_cnt</th>\n",
       "      <th>updt_date</th>\n",
       "    </tr>\n",
       "  </thead>\n",
       "  <tbody>\n",
       "    <tr>\n",
       "      <td>0</td>\n",
       "      <td>[락]</td>\n",
       "      <td>61281</td>\n",
       "      <td>여행같은 음악</td>\n",
       "      <td>[525514, 129701, 383374, 562083, 297861, 13954...</td>\n",
       "      <td>71</td>\n",
       "      <td>2013-12-19 18:36:19.000</td>\n",
       "    </tr>\n",
       "    <tr>\n",
       "      <td>1</td>\n",
       "      <td>[추억, 회상]</td>\n",
       "      <td>10532</td>\n",
       "      <td>요즘 너 말야</td>\n",
       "      <td>[432406, 675945, 497066, 120377, 389529, 24427...</td>\n",
       "      <td>1</td>\n",
       "      <td>2014-12-02 16:19:42.000</td>\n",
       "    </tr>\n",
       "    <tr>\n",
       "      <td>2</td>\n",
       "      <td>[까페, 잔잔한]</td>\n",
       "      <td>76951</td>\n",
       "      <td>편하게, 잔잔하게 들을 수 있는 곡.-</td>\n",
       "      <td>[83116, 276692, 166267, 186301, 354465, 256598...</td>\n",
       "      <td>17</td>\n",
       "      <td>2017-08-28 07:09:34.000</td>\n",
       "    </tr>\n",
       "    <tr>\n",
       "      <td>3</td>\n",
       "      <td>[연말, 눈오는날, 캐럴, 분위기, 따듯한, 크리스마스캐럴, 겨울노래, 크리스마스,...</td>\n",
       "      <td>147456</td>\n",
       "      <td>크리스마스 분위기에 흠뻑 취하고 싶을때</td>\n",
       "      <td>[394031, 195524, 540149, 287984, 440773, 10033...</td>\n",
       "      <td>33</td>\n",
       "      <td>2019-12-05 15:15:18.000</td>\n",
       "    </tr>\n",
       "    <tr>\n",
       "      <td>4</td>\n",
       "      <td>[댄스]</td>\n",
       "      <td>27616</td>\n",
       "      <td>추억의 노래 ㅋ</td>\n",
       "      <td>[159327, 553610, 5130, 645103, 294435, 100657,...</td>\n",
       "      <td>9</td>\n",
       "      <td>2011-10-25 13:54:56.000</td>\n",
       "    </tr>\n",
       "    <tr>\n",
       "      <td>...</td>\n",
       "      <td>...</td>\n",
       "      <td>...</td>\n",
       "      <td>...</td>\n",
       "      <td>...</td>\n",
       "      <td>...</td>\n",
       "      <td>...</td>\n",
       "    </tr>\n",
       "    <tr>\n",
       "      <td>115066</td>\n",
       "      <td>[록메탈, 밴드사운드, 록, 락메탈, 메탈, 락, extreme]</td>\n",
       "      <td>120325</td>\n",
       "      <td>METAL E'SM #2</td>\n",
       "      <td>[429629, 441511, 612106, 516359, 691768, 38714...</td>\n",
       "      <td>3</td>\n",
       "      <td>2020-04-17 04:31:11.000</td>\n",
       "    </tr>\n",
       "    <tr>\n",
       "      <td>115067</td>\n",
       "      <td>[일렉]</td>\n",
       "      <td>106976</td>\n",
       "      <td>빠른 리스너를 위한 따끈따끈한 최신 인기 EDM 모음!</td>\n",
       "      <td>[321330, 216057, 534472, 240306, 331098, 23288...</td>\n",
       "      <td>13</td>\n",
       "      <td>2015-12-24 17:23:19.000</td>\n",
       "    </tr>\n",
       "    <tr>\n",
       "      <td>115068</td>\n",
       "      <td>[담시, 가족, 눈물, 그리움, 주인공, 나의_이야기, 사랑, 친구]</td>\n",
       "      <td>11343</td>\n",
       "      <td>#1. 눈물이 앞을 가리는 나의_이야기</td>\n",
       "      <td>[50512, 249024, 250608, 371171, 229942, 694943...</td>\n",
       "      <td>4</td>\n",
       "      <td>2019-08-16 20:59:22.000</td>\n",
       "    </tr>\n",
       "    <tr>\n",
       "      <td>115069</td>\n",
       "      <td>[잔잔한, 버스, 퇴근버스, Pop, 풍경, 퇴근길]</td>\n",
       "      <td>131982</td>\n",
       "      <td>퇴근 버스에서 편히 들으면서 하루를 마무리하기에 좋은 POP</td>\n",
       "      <td>[533534, 608114, 343608, 417140, 609009, 30217...</td>\n",
       "      <td>4</td>\n",
       "      <td>2019-10-25 23:40:42.000</td>\n",
       "    </tr>\n",
       "    <tr>\n",
       "      <td>115070</td>\n",
       "      <td>[노래추천, 팝송추천, 팝송, 팝송모음]</td>\n",
       "      <td>100389</td>\n",
       "      <td>FAVORITE POPSONG!!!</td>\n",
       "      <td>[26008, 456354, 324105, 89871, 135272, 143548,...</td>\n",
       "      <td>17</td>\n",
       "      <td>2020-04-18 20:35:06.000</td>\n",
       "    </tr>\n",
       "  </tbody>\n",
       "</table>\n",
       "<p>115071 rows × 6 columns</p>\n",
       "</div>"
      ],
      "text/plain": [
       "                                                     tags      id  \\\n",
       "0                                                     [락]   61281   \n",
       "1                                                [추억, 회상]   10532   \n",
       "2                                               [까페, 잔잔한]   76951   \n",
       "3       [연말, 눈오는날, 캐럴, 분위기, 따듯한, 크리스마스캐럴, 겨울노래, 크리스마스,...  147456   \n",
       "4                                                    [댄스]   27616   \n",
       "...                                                   ...     ...   \n",
       "115066               [록메탈, 밴드사운드, 록, 락메탈, 메탈, 락, extreme]  120325   \n",
       "115067                                               [일렉]  106976   \n",
       "115068             [담시, 가족, 눈물, 그리움, 주인공, 나의_이야기, 사랑, 친구]   11343   \n",
       "115069                      [잔잔한, 버스, 퇴근버스, Pop, 풍경, 퇴근길]  131982   \n",
       "115070                             [노래추천, 팝송추천, 팝송, 팝송모음]  100389   \n",
       "\n",
       "                             plylst_title  \\\n",
       "0                                 여행같은 음악   \n",
       "1                                 요즘 너 말야   \n",
       "2                   편하게, 잔잔하게 들을 수 있는 곡.-   \n",
       "3                   크리스마스 분위기에 흠뻑 취하고 싶을때   \n",
       "4                                추억의 노래 ㅋ   \n",
       "...                                   ...   \n",
       "115066                      METAL E'SM #2   \n",
       "115067     빠른 리스너를 위한 따끈따끈한 최신 인기 EDM 모음!   \n",
       "115068              #1. 눈물이 앞을 가리는 나의_이야기   \n",
       "115069  퇴근 버스에서 편히 들으면서 하루를 마무리하기에 좋은 POP   \n",
       "115070                FAVORITE POPSONG!!!   \n",
       "\n",
       "                                                    songs  like_cnt  \\\n",
       "0       [525514, 129701, 383374, 562083, 297861, 13954...        71   \n",
       "1       [432406, 675945, 497066, 120377, 389529, 24427...         1   \n",
       "2       [83116, 276692, 166267, 186301, 354465, 256598...        17   \n",
       "3       [394031, 195524, 540149, 287984, 440773, 10033...        33   \n",
       "4       [159327, 553610, 5130, 645103, 294435, 100657,...         9   \n",
       "...                                                   ...       ...   \n",
       "115066  [429629, 441511, 612106, 516359, 691768, 38714...         3   \n",
       "115067  [321330, 216057, 534472, 240306, 331098, 23288...        13   \n",
       "115068  [50512, 249024, 250608, 371171, 229942, 694943...         4   \n",
       "115069  [533534, 608114, 343608, 417140, 609009, 30217...         4   \n",
       "115070  [26008, 456354, 324105, 89871, 135272, 143548,...        17   \n",
       "\n",
       "                      updt_date  \n",
       "0       2013-12-19 18:36:19.000  \n",
       "1       2014-12-02 16:19:42.000  \n",
       "2       2017-08-28 07:09:34.000  \n",
       "3       2019-12-05 15:15:18.000  \n",
       "4       2011-10-25 13:54:56.000  \n",
       "...                         ...  \n",
       "115066  2020-04-17 04:31:11.000  \n",
       "115067  2015-12-24 17:23:19.000  \n",
       "115068  2019-08-16 20:59:22.000  \n",
       "115069  2019-10-25 23:40:42.000  \n",
       "115070  2020-04-18 20:35:06.000  \n",
       "\n",
       "[115071 rows x 6 columns]"
      ]
     },
     "execution_count": 3,
     "metadata": {},
     "output_type": "execute_result"
    }
   ],
   "source": [
    "train"
   ]
  },
  {
   "cell_type": "code",
   "execution_count": 4,
   "metadata": {},
   "outputs": [],
   "source": [
    "song_meta = pd.read_json('../file/song_meta.json', encoding='utf-8')"
   ]
  },
  {
   "cell_type": "code",
   "execution_count": 5,
   "metadata": {},
   "outputs": [],
   "source": [
    "songs = [__ for _ in train.songs for __ in _]"
   ]
  },
  {
   "cell_type": "code",
   "execution_count": 6,
   "metadata": {},
   "outputs": [
    {
     "data": {
      "text/plain": [
       "615142"
      ]
     },
     "execution_count": 6,
     "metadata": {},
     "output_type": "execute_result"
    }
   ],
   "source": [
    "len(set(songs))"
   ]
  },
  {
   "cell_type": "code",
   "execution_count": 7,
   "metadata": {
    "scrolled": false
   },
   "outputs": [],
   "source": [
    "song_selected = [_[0] for _ in list(filter(lambda e: e[1] > 1000, Counter(songs).items()))]"
   ]
  },
  {
   "cell_type": "code",
   "execution_count": 8,
   "metadata": {},
   "outputs": [],
   "source": [
    "n = len(song_selected)"
   ]
  },
  {
   "cell_type": "code",
   "execution_count": 9,
   "metadata": {},
   "outputs": [],
   "source": [
    "song_selected_dict = {song: key for key, song in enumerate(song_selected)}"
   ]
  },
  {
   "cell_type": "code",
   "execution_count": 10,
   "metadata": {},
   "outputs": [],
   "source": [
    "train['song_selected'] = train.songs.apply(lambda e: [ee for ee in e if ee in set(song_selected)])"
   ]
  },
  {
   "cell_type": "code",
   "execution_count": 11,
   "metadata": {},
   "outputs": [],
   "source": [
    "train = train[train.song_selected.apply(lambda e: bool(e))]"
   ]
  },
  {
   "cell_type": "code",
   "execution_count": 12,
   "metadata": {},
   "outputs": [
    {
     "data": {
      "text/plain": [
       "1                          [497066, 6546, 152422]\n",
       "3                        [521739, 295250, 205179]\n",
       "5                                        [493762]\n",
       "6         [505036, 627363, 37748, 449244, 116573]\n",
       "8                                        [518420]\n",
       "                           ...                   \n",
       "115059              [518420, 348200, 26083, 6546]\n",
       "115061           [418935, 133143, 117595, 302646]\n",
       "115063                                     [6546]\n",
       "115068                                    [95323]\n",
       "115070                                   [625875]\n",
       "Name: song_selected, Length: 40312, dtype: object"
      ]
     },
     "execution_count": 12,
     "metadata": {},
     "output_type": "execute_result"
    }
   ],
   "source": [
    "train.song_selected"
   ]
  },
  {
   "cell_type": "code",
   "execution_count": 13,
   "metadata": {},
   "outputs": [
    {
     "data": {
      "text/plain": [
       "array([0., 1., 1.])"
      ]
     },
     "execution_count": 13,
     "metadata": {},
     "output_type": "execute_result"
    }
   ],
   "source": [
    "a = np.zeros(3)\n",
    "a[[1,2]] =1\n",
    "a"
   ]
  },
  {
   "cell_type": "code",
   "execution_count": 14,
   "metadata": {},
   "outputs": [
    {
     "name": "stderr",
     "output_type": "stream",
     "text": [
      "C:\\Users\\long8v\\Anaconda3\\envs\\long36v\\lib\\site-packages\\ipykernel_launcher.py:1: SettingWithCopyWarning: \n",
      "A value is trying to be set on a copy of a slice from a DataFrame.\n",
      "Try using .loc[row_indexer,col_indexer] = value instead\n",
      "\n",
      "See the caveats in the documentation: http://pandas.pydata.org/pandas-docs/stable/user_guide/indexing.html#returning-a-view-versus-a-copy\n",
      "  \"\"\"Entry point for launching an IPython kernel.\n"
     ]
    }
   ],
   "source": [
    "train['song_selected_idx'] = train.song_selected.apply(lambda e: [song_selected_dict[ee] for ee in e])"
   ]
  },
  {
   "cell_type": "code",
   "execution_count": 15,
   "metadata": {},
   "outputs": [],
   "source": [
    "train_ = train.iloc[:10000]"
   ]
  },
  {
   "cell_type": "code",
   "execution_count": 16,
   "metadata": {},
   "outputs": [
    {
     "data": {
      "text/plain": [
       "(40312, 8)"
      ]
     },
     "execution_count": 16,
     "metadata": {},
     "output_type": "execute_result"
    }
   ],
   "source": [
    "train.shape"
   ]
  },
  {
   "cell_type": "code",
   "execution_count": 17,
   "metadata": {},
   "outputs": [],
   "source": [
    "X = np.zeros(n)\n",
    "for _ in train_.song_selected_idx:\n",
    "    temp = np.zeros(n)\n",
    "    temp[_] = 1\n",
    "    X = np.vstack((X, temp))"
   ]
  },
  {
   "cell_type": "code",
   "execution_count": 18,
   "metadata": {},
   "outputs": [
    {
     "name": "stderr",
     "output_type": "stream",
     "text": [
      "Using TensorFlow backend.\n"
     ]
    }
   ],
   "source": [
    "from keras.datasets import mnist\n",
    "from keras.layers import Input, Dense\n",
    "from keras.models import Model\n",
    "from keras import backend as K"
   ]
  },
  {
   "cell_type": "code",
   "execution_count": 19,
   "metadata": {},
   "outputs": [
    {
     "ename": "NameError",
     "evalue": "name 'x_train' is not defined",
     "output_type": "error",
     "traceback": [
      "\u001b[1;31m---------------------------------------------------------------------------\u001b[0m",
      "\u001b[1;31mNameError\u001b[0m                                 Traceback (most recent call last)",
      "\u001b[1;32m<ipython-input-19-2132a220a582>\u001b[0m in \u001b[0;36m<module>\u001b[1;34m\u001b[0m\n\u001b[1;32m----> 1\u001b[1;33m \u001b[0mx_train\u001b[0m\u001b[1;33m.\u001b[0m\u001b[0mshape\u001b[0m\u001b[1;33m\u001b[0m\u001b[1;33m\u001b[0m\u001b[0m\n\u001b[0m",
      "\u001b[1;31mNameError\u001b[0m: name 'x_train' is not defined"
     ]
    }
   ],
   "source": [
    "x_train.shape"
   ]
  },
  {
   "cell_type": "code",
   "execution_count": null,
   "metadata": {},
   "outputs": [],
   "source": [
    "X = X[1:]"
   ]
  },
  {
   "cell_type": "code",
   "execution_count": null,
   "metadata": {},
   "outputs": [],
   "source": [
    "X.shape[1]"
   ]
  },
  {
   "cell_type": "code",
   "execution_count": null,
   "metadata": {},
   "outputs": [],
   "source": [
    "x_train = X[:int(X.shape[1]*0.8)]\n",
    "x_test = X[int(X.shape[1]*0.8):]"
   ]
  },
  {
   "cell_type": "code",
   "execution_count": null,
   "metadata": {
    "scrolled": false
   },
   "outputs": [],
   "source": [
    "from keras.datasets import mnist\n",
    "from keras.layers import Input, Dense\n",
    "from keras.models import Model\n",
    "from keras import backend as K\n",
    "\n",
    "# configure\n",
    "encoding_dim = 32\n",
    "input_img = Input(shape=(135,))\n",
    "\n",
    "# layers\n",
    "encoded = Dense(encoding_dim, activation='relu')(input_img)\n",
    "decoded = Dense(135, activation='sigmoid')(encoded)\n",
    "\n",
    "# Models\n",
    "autoencoder = Model(input_img, decoded) # autoencoder\n",
    "encoder = Model(input_img, encoded) # encoder\n",
    "encoded_input = Input(shape=(encoding_dim,))\n",
    "decoder_layer = autoencoder.layers[-1]\n",
    "decoder = Model(encoded_input, decoder_layer(encoded_input)) # decoder\n",
    "\n",
    "# result viewer\n",
    "def rmse(y_true, y_pred):\n",
    "    return K.sqrt(K.mean(K.square(y_pred - y_true), axis=-1))\n",
    "\n",
    "def recall(y_true, y_pred):\n",
    "    y_true_yn = K.round(K.clip(y_true, 0, 1))\n",
    "    y_pred_yn = K.round(K.clip(y_pred, 0, 1))\n",
    "\n",
    "    count_true_positive = K.sum(y_true_yn * y_pred_yn)\n",
    "    count_true_positive_false_negative = K.sum(y_true_yn)\n",
    "    recall = count_true_positive / (count_true_positive_false_negative + K.epsilon())\n",
    "    return recall\n",
    "\n",
    "# train autoencoder\n",
    "autoencoder.compile(optimizer='adadelta', loss='binary_crossentropy', metrics=[rmse, recall])\n",
    "autoencoder.fit(x_train, x_train,\n",
    "                epochs=50,\n",
    "                batch_size=16,\n",
    "                shuffle=True,\n",
    "                validation_data=(x_test, x_test))\n",
    "\n",
    "# encoding result\n",
    "encoded_imgs = encoder.predict(x_test)\n",
    "decoded_imgs = decoder.predict(encoded_imgs)\n",
    "\n",
    "# classification train data\n",
    "reducted_x_train = encoder.predict(x_train)\n",
    "reducted_x_test = encoder.predict(x_test)"
   ]
  },
  {
   "cell_type": "code",
   "execution_count": null,
   "metadata": {},
   "outputs": [],
   "source": [
    "predicted = reducted_x_test > 0.5"
   ]
  },
  {
   "cell_type": "code",
   "execution_count": null,
   "metadata": {
    "scrolled": false
   },
   "outputs": [],
   "source": [
    "accuracy = 0; precison = 0\n",
    "for _ in list(zip(x_test, predicted)):\n",
    "    \n",
    "    TP = 0 ; TN = 0; FP = 0; FN = 0\n",
    "    for __ in list(zip(_[0], _[1])):\n",
    "        if __[0] == 1 and  __[1] == 1:\n",
    "            TP += 1\n",
    "        if __[0] == 0 and __[1] == 0:\n",
    "            TN += 1\n",
    "        if __[0] == 0 and __[1] == 1:\n",
    "            FP += 1\n",
    "        if __[0] == 1 and __[0] == 0:\n",
    "            FN += 1 \n",
    "    accuracy += (TP + TN) / (TP + TN + FP + FN)\n",
    "    precision += TP / (TP + FP)\n",
    "    \n",
    "print('accuracy :{} recall :{}'.format(accuracy/len(x_test), precision/len(x_test)))"
   ]
  },
  {
   "cell_type": "code",
   "execution_count": null,
   "metadata": {},
   "outputs": [],
   "source": []
  }
 ],
 "metadata": {
  "kernelspec": {
   "display_name": "Python 3",
   "language": "python",
   "name": "python3"
  },
  "language_info": {
   "codemirror_mode": {
    "name": "ipython",
    "version": 3
   },
   "file_extension": ".py",
   "mimetype": "text/x-python",
   "name": "python",
   "nbconvert_exporter": "python",
   "pygments_lexer": "ipython3",
   "version": "3.6.9"
  }
 },
 "nbformat": 4,
 "nbformat_minor": 2
}
