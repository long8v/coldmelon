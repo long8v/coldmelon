{
 "cells": [
  {
   "cell_type": "code",
   "execution_count": 2,
   "metadata": {},
   "outputs": [],
   "source": [
    "import pandas as pd\n",
    "from collections import Counter"
   ]
  },
  {
   "cell_type": "code",
   "execution_count": 3,
   "metadata": {},
   "outputs": [],
   "source": [
    "train = pd.read_json('../file/train.json', encoding='utf-8')"
   ]
  },
  {
   "cell_type": "code",
   "execution_count": 4,
   "metadata": {},
   "outputs": [],
   "source": [
    "validation = pd.read_json('../file/val.json', encoding='utf-8')"
   ]
  },
  {
   "cell_type": "code",
   "execution_count": 6,
   "metadata": {
    "scrolled": false
   },
   "outputs": [],
   "source": [
    "# validation.head(100).songs.apply(lambda e: len(e))"
   ]
  },
  {
   "cell_type": "code",
   "execution_count": 38,
   "metadata": {},
   "outputs": [],
   "source": [
    "song_meta = pd.read_json('../file/song_meta.json', encoding='utf-8')"
   ]
  },
  {
   "cell_type": "code",
   "execution_count": 41,
   "metadata": {},
   "outputs": [
    {
     "data": {
      "text/plain": [
       "0                                                       [락]\n",
       "1                                                  [추억, 회상]\n",
       "2                                                 [까페, 잔잔한]\n",
       "3         [연말, 눈오는날, 캐럴, 분위기, 따듯한, 크리스마스캐럴, 겨울노래, 크리스마스,...\n",
       "4                                                      [댄스]\n",
       "5         [운동, 드라이브, Pop, 트로피컬하우스, 힐링, 기분전환, 2017, 팝, 트렌...\n",
       "6                               [짝사랑, 취향저격, 슬픔, 고백, 사랑, 이별]\n",
       "7                                             [잔잔한, 추억, 회상]\n",
       "8                               [일렉트로니카, 포크, 메탈, 락, 댄스, 인디]\n",
       "9                        [록, Metal, 이일우, M에센셜, 메탈, Rock, 락]\n",
       "10                                [kpop, 댄스, 걸그룹댄스, 스트레스해소]\n",
       "11         [새해, 여행, 프로필음악, 카카오톡, 기분전환, 소원, 프로필, 소망, 다짐, 카톡]\n",
       "12                                     [듣고, 우울, 힐링, 이거, 힘내]\n",
       "13             [힙합, 느낌있는, 밤, 새벽, RnB, 감각적인, 드라이브, 국내, 그루브한]\n",
       "14                                                 [가을, 재즈]\n",
       "15                                                      [락]\n",
       "16                                 [감성, 질리지않는, 나만알고싶은, Pop]\n",
       "17                                              [봄, 설렘, 사랑]\n",
       "18                                          [비오는날, 누군가생각날때]\n",
       "19                                   [스밍, 목록, 폐막식, 올림픽, 엑소]\n",
       "20                            [조용히, 혼자, 또는, 새벽감성, 고민, 맥주한잔]\n",
       "21                                            [카페, 재즈, 잔잔한]\n",
       "22                                                    [OST]\n",
       "23                                                     [댄스]\n",
       "24                          [감성, 어쿠스틱, 잔잔한, 새벽, 편안한, 인디, 밤]\n",
       "25                                             [잔잔한, 밤, 새벽]\n",
       "26                                  [힐링, 드라이브, 에너지, 인디, 여행]\n",
       "27                              [듀엣, 취향저격, 달달, 피쳐링, 사랑, 남녀]\n",
       "28                                             [까페, 설렘, 사랑]\n",
       "29                                    [힙합, 신인, 국힙, 인디, 신나는]\n",
       "                                ...                        \n",
       "115041                       [아침, 운동, 드라이브, 힐링, 기분전환, 스트레칭]\n",
       "115042                                              [밤, 새벽]\n",
       "115043                              [재즈, 드라이브, 파티, 빅밴드, 스윙]\n",
       "115044                                       [휴식, 힐링, 기분전환]\n",
       "115045                                            [이별, 그리움]\n",
       "115046                                               [JPOP]\n",
       "115047                                         [부들부들, 감미로운]\n",
       "115048                                              [힙합, 랩]\n",
       "115049                                         [겨울, 설렘, 사랑]\n",
       "115050                                              [힙합, 랩]\n",
       "115051                                                  [락]\n",
       "115052                                     [슬픔, 이별, 설렘, 사랑]\n",
       "115053         [클럽, 홍대, 운동, 열정, EDM, 20대, 라운지, 월디페, 느낌, 일렉]\n",
       "115054                                                  [팝]\n",
       "115055                                           [매장음악, 까페]\n",
       "115056                [힙합, 감성힙합, 봄, 알앤비, 매장, 그루브, 휴식, 기분전환]\n",
       "115057                                                 [인디]\n",
       "115058                                                 [여친]\n",
       "115059                                      [사랑, 밤, 설렘, 새벽]\n",
       "115060    [일렉트로니카, 운동, 에너지, 드라이브, EDM, 기분전환, 파티, 기분업, 하우...\n",
       "115061                                                 [까페]\n",
       "115062                                       [힐링, 휴식, 기분전환]\n",
       "115063                                   [드라마, 설렘, OST, 센치]\n",
       "115064                                               [JPOP]\n",
       "115065                                             [설렘, 사랑]\n",
       "115066                 [록메탈, 밴드사운드, 록, 락메탈, 메탈, 락, extreme]\n",
       "115067                                                 [일렉]\n",
       "115068               [담시, 가족, 눈물, 그리움, 주인공, 나의_이야기, 사랑, 친구]\n",
       "115069                        [잔잔한, 버스, 퇴근버스, Pop, 풍경, 퇴근길]\n",
       "115070                               [노래추천, 팝송추천, 팝송, 팝송모음]\n",
       "Name: tags, Length: 115071, dtype: object"
      ]
     },
     "execution_count": 41,
     "metadata": {},
     "output_type": "execute_result"
    }
   ],
   "source": [
    "train.tags"
   ]
  },
  {
   "cell_type": "code",
   "execution_count": 40,
   "metadata": {},
   "outputs": [
    {
     "data": {
      "text/plain": [
       "[(1, 27242),\n",
       " (2, 20725),\n",
       " (3, 16245),\n",
       " (10, 12570),\n",
       " (4, 10770),\n",
       " (5, 6613),\n",
       " (9, 5484),\n",
       " (6, 5351),\n",
       " (8, 5080),\n",
       " (7, 4986),\n",
       " (11, 5)]"
      ]
     },
     "execution_count": 40,
     "metadata": {},
     "output_type": "execute_result"
    }
   ],
   "source": [
    "Counter([len(_) for _ in train.tags]).most_common()"
   ]
  },
  {
   "cell_type": "code",
   "execution_count": 36,
   "metadata": {},
   "outputs": [],
   "source": [
    "tag_count = Counter([__ for _ in train.tags for __ in _])"
   ]
  },
  {
   "cell_type": "code",
   "execution_count": 9,
   "metadata": {},
   "outputs": [
    {
     "data": {
      "text/plain": [
       "29160"
      ]
     },
     "execution_count": 9,
     "metadata": {},
     "output_type": "execute_result"
    }
   ],
   "source": [
    "len(tag_count)"
   ]
  },
  {
   "cell_type": "code",
   "execution_count": 32,
   "metadata": {},
   "outputs": [
    {
     "data": {
      "text/plain": [
       "2580"
      ]
     },
     "execution_count": 32,
     "metadata": {},
     "output_type": "execute_result"
    }
   ],
   "source": [
    "len(list(filter(lambda e: e[1] > 10, tag_count.items())))"
   ]
  },
  {
   "cell_type": "code",
   "execution_count": 11,
   "metadata": {
    "scrolled": false
   },
   "outputs": [
    {
     "data": {
      "text/plain": [
       "[('기분전환', 16465),\n",
       " ('감성', 11417),\n",
       " ('휴식', 11215),\n",
       " ('발라드', 10796),\n",
       " ('잔잔한', 10218),\n",
       " ('드라이브', 10095),\n",
       " ('힐링', 9783),\n",
       " ('사랑', 8704),\n",
       " ('새벽', 8320),\n",
       " ('밤', 7615),\n",
       " ('카페', 6837),\n",
       " ('추억', 6520),\n",
       " ('팝', 6425),\n",
       " ('힙합', 6413),\n",
       " ('이별', 5400),\n",
       " ('설렘', 4910),\n",
       " ('신나는', 4861),\n",
       " ('회상', 4579),\n",
       " ('매장음악', 4576),\n",
       " ('여행', 4559)]"
      ]
     },
     "execution_count": 11,
     "metadata": {},
     "output_type": "execute_result"
    }
   ],
   "source": [
    "tag_count.most_common(20)"
   ]
  },
  {
   "cell_type": "markdown",
   "metadata": {},
   "source": [
    "## tag들로 word2vec 학습이 될까?"
   ]
  },
  {
   "cell_type": "code",
   "execution_count": 11,
   "metadata": {},
   "outputs": [],
   "source": [
    "from gensim.models import Word2Vec"
   ]
  },
  {
   "cell_type": "code",
   "execution_count": 19,
   "metadata": {},
   "outputs": [],
   "source": [
    "w2v = Word2Vec(train.tags, min_count=10, window=2)\n",
    "# w2v = Word2Vec(train.tags, min_count=10, window=2)"
   ]
  },
  {
   "cell_type": "code",
   "execution_count": 18,
   "metadata": {},
   "outputs": [
    {
     "data": {
      "text/plain": [
       "[('랩힙합', 0.5710749626159668),\n",
       " ('외힙', 0.5706052780151367),\n",
       " ('외국힙합', 0.5627151727676392),\n",
       " ('Rap', 0.5537432432174683),\n",
       " ('SWAG', 0.5243825912475586),\n",
       " ('비트', 0.5189820528030396),\n",
       " ('국내힙합', 0.5143197178840637),\n",
       " ('해외힙합', 0.5085158348083496),\n",
       " ('래퍼', 0.5021466612815857),\n",
       " ('국힙', 0.4965628981590271)]"
      ]
     },
     "execution_count": 18,
     "metadata": {},
     "output_type": "execute_result"
    }
   ],
   "source": [
    "w2v.wv.most_similar(positive=['힙합'], negative=['감성'])"
   ]
  },
  {
   "cell_type": "code",
   "execution_count": 20,
   "metadata": {},
   "outputs": [
    {
     "data": {
      "text/plain": [
       "[('흐린날', 0.734529972076416),\n",
       " ('센치', 0.7092694640159607),\n",
       " ('새벽감성', 0.6997900605201721),\n",
       " ('듣기좋은', 0.6990400552749634),\n",
       " ('가을비', 0.6757636070251465),\n",
       " ('비오는날', 0.6741164922714233),\n",
       " ('센치한', 0.6676822900772095),\n",
       " ('취향저격', 0.6605859994888306),\n",
       " ('감성곡', 0.6475048065185547),\n",
       " ('가을감성', 0.6437019109725952)]"
      ]
     },
     "execution_count": 20,
     "metadata": {},
     "output_type": "execute_result"
    }
   ],
   "source": [
    "w2v.wv.most_similar('감성')"
   ]
  },
  {
   "cell_type": "code",
   "execution_count": 21,
   "metadata": {},
   "outputs": [
    {
     "data": {
      "text/plain": [
       "[('록', 0.9200527667999268),\n",
       " ('밴드', 0.9043124914169312),\n",
       " ('Rock', 0.8939193487167358),\n",
       " ('메탈', 0.8862110376358032),\n",
       " ('참이슬', 0.885554313659668),\n",
       " ('얼터너티브', 0.8785027265548706),\n",
       " ('브릿팝', 0.8649556040763855),\n",
       " ('헤비메탈', 0.8523431420326233),\n",
       " ('legend', 0.8515828847885132),\n",
       " ('모던락', 0.8502855896949768)]"
      ]
     },
     "execution_count": 21,
     "metadata": {},
     "output_type": "execute_result"
    }
   ],
   "source": [
    "w2v.wv.most_similar('락')"
   ]
  },
  {
   "cell_type": "code",
   "execution_count": 22,
   "metadata": {},
   "outputs": [
    {
     "data": {
      "text/plain": [
       "[('장마', 0.948492169380188),\n",
       " ('흐린날', 0.9384801387786865),\n",
       " ('비오는날', 0.920596718788147),\n",
       " ('우산', 0.9090999364852905),\n",
       " ('소나기', 0.8855897784233093),\n",
       " ('가을비', 0.8750472068786621),\n",
       " ('비올때', 0.854828417301178),\n",
       " ('rain', 0.8474569916725159),\n",
       " ('봄비', 0.8468939065933228),\n",
       " ('별', 0.8282343745231628)]"
      ]
     },
     "execution_count": 22,
     "metadata": {},
     "output_type": "execute_result"
    }
   ],
   "source": [
    "w2v.wv.most_similar('비')"
   ]
  },
  {
   "cell_type": "code",
   "execution_count": 23,
   "metadata": {},
   "outputs": [
    {
     "data": {
      "text/plain": [
       "[('매장', 0.8806755542755127),\n",
       " ('커피숍', 0.7579690217971802),\n",
       " ('느낌있는', 0.7573630213737488),\n",
       " ('감각적인', 0.7064580321311951),\n",
       " ('cafe', 0.702729344367981),\n",
       " ('카페음악', 0.6992074251174927),\n",
       " ('기분좋은', 0.6973662376403809),\n",
       " ('주말', 0.6955015659332275),\n",
       " ('펍', 0.6954522728919983),\n",
       " ('라떼', 0.6885679364204407)]"
      ]
     },
     "execution_count": 23,
     "metadata": {},
     "output_type": "execute_result"
    }
   ],
   "source": [
    "w2v.wv.most_similar('매장음악')"
   ]
  },
  {
   "cell_type": "code",
   "execution_count": 29,
   "metadata": {},
   "outputs": [
    {
     "data": {
      "text/plain": [
       "array([ 0.20422272, -0.8447455 , -0.19420142,  0.11281497, -1.0428231 ,\n",
       "       -1.0584314 , -1.2833192 , -0.71158254, -0.4664708 , -0.303229  ,\n",
       "        0.47509184, -0.05058932,  0.37887755, -0.25565693, -1.0912172 ,\n",
       "        0.33913982,  1.0042312 ,  0.7371431 ,  0.39159936, -0.37288356,\n",
       "       -0.559638  , -0.8468673 , -0.7065553 , -1.1877645 ,  0.46664992,\n",
       "       -0.12499586, -1.1573845 , -0.45600572, -0.87784165,  1.5830896 ,\n",
       "        1.0005816 , -0.3733514 , -0.07326904, -0.4759975 ,  0.8283777 ,\n",
       "        0.17198287,  0.12843801,  0.75115234, -0.7569943 ,  0.19907692,\n",
       "        0.38090318, -0.0081712 ,  0.64603776, -0.10782912, -0.00294623,\n",
       "        1.0692394 , -0.16867071, -0.9878956 , -0.68542033, -0.5737797 ,\n",
       "       -0.29305863, -0.6283892 ,  1.4879544 ,  0.15594204,  0.16904512,\n",
       "        0.4430636 , -0.1923564 , -0.02741854,  0.42145482, -0.65542346,\n",
       "        0.09915297, -0.9938185 , -0.41311926, -0.34236428, -0.25164416,\n",
       "       -0.19024512,  0.114571  ,  0.48567012,  0.03213383,  0.7279284 ,\n",
       "        1.2130307 , -0.20511678, -0.22059731, -0.46843985, -0.9831681 ,\n",
       "       -0.15066382, -0.34512606,  0.9585964 , -0.8277439 ,  0.7657742 ,\n",
       "        0.270914  ,  0.24677524, -0.19601806,  0.26424143, -0.07552728,\n",
       "       -0.46933308, -0.3269157 , -0.09817275,  0.38298717,  0.04766518,\n",
       "        0.61767524,  0.41208044,  0.13701576, -0.49277732,  0.19717357,\n",
       "       -0.60443705,  0.02051577, -1.0198035 , -1.3904817 ,  0.07999422],\n",
       "      dtype=float32)"
      ]
     },
     "execution_count": 29,
     "metadata": {},
     "output_type": "execute_result"
    }
   ],
   "source": [
    "w2v.wv['매장음악']"
   ]
  },
  {
   "cell_type": "markdown",
   "metadata": {},
   "source": [
    "## playlist제목으로 word2vec이 될까?"
   ]
  },
  {
   "cell_type": "code",
   "execution_count": 52,
   "metadata": {},
   "outputs": [
    {
     "data": {
      "text/plain": [
       "Index(['id', 'like_cnt', 'plylst_title', 'songs', 'tags', 'updt_date'], dtype='object')"
      ]
     },
     "execution_count": 52,
     "metadata": {},
     "output_type": "execute_result"
    }
   ],
   "source": [
    "train.columns"
   ]
  },
  {
   "cell_type": "code",
   "execution_count": 90,
   "metadata": {},
   "outputs": [],
   "source": [
    "from konlpy.tag import Komoran"
   ]
  },
  {
   "cell_type": "code",
   "execution_count": 98,
   "metadata": {},
   "outputs": [],
   "source": [
    "pos = Komoran()\n",
    "# pos = Kkma()"
   ]
  },
  {
   "cell_type": "code",
   "execution_count": 99,
   "metadata": {},
   "outputs": [
    {
     "data": {
      "text/plain": [
       "[('좋은 하루', 'NNP'), ('보내', 'VV'), ('어', 'EC')]"
      ]
     },
     "execution_count": 99,
     "metadata": {},
     "output_type": "execute_result"
    }
   ],
   "source": [
    "pos.pos('좋은 하루보내')"
   ]
  },
  {
   "cell_type": "code",
   "execution_count": 100,
   "metadata": {},
   "outputs": [],
   "source": [
    "train['plyst_title_pos'] = train.plylst_title.apply(lambda e: [_[0] for _ in pos.pos(e)])"
   ]
  },
  {
   "cell_type": "code",
   "execution_count": 101,
   "metadata": {},
   "outputs": [
    {
     "data": {
      "text/plain": [
       "[('팝송', 0.8023804426193237),\n",
       " ('음악', 0.7253035306930542),\n",
       " ('발라드', 0.6501184701919556),\n",
       " ('연주곡', 0.6074948310852051),\n",
       " ('곡', 0.5996525883674622),\n",
       " ('뉴에이지', 0.5330931544303894),\n",
       " ('사람', 0.5211248397827148),\n",
       " ('멜로디', 0.4950396418571472),\n",
       " ('POP', 0.48665592074394226),\n",
       " ('이 노래', 0.48479366302490234)]"
      ]
     },
     "execution_count": 101,
     "metadata": {},
     "output_type": "execute_result"
    }
   ],
   "source": [
    "w2v_song.wv.most_similar('노래')"
   ]
  },
  {
   "cell_type": "code",
   "execution_count": 110,
   "metadata": {},
   "outputs": [
    {
     "data": {
      "text/plain": [
       "[('짝사랑', 0.7309226989746094),\n",
       " ('기억', 0.6923060417175293),\n",
       " ('고백', 0.6922513246536255),\n",
       " ('이야기', 0.6895580291748047),\n",
       " ('감정', 0.6672914028167725),\n",
       " ('연애', 0.6641128063201904),\n",
       " ('그리움', 0.6358450651168823),\n",
       " ('사람', 0.6275975108146667),\n",
       " ('헤어지', 0.6181691884994507),\n",
       " ('슬프', 0.6100285053253174)]"
      ]
     },
     "execution_count": 110,
     "metadata": {},
     "output_type": "execute_result"
    }
   ],
   "source": [
    "w2v_song.wv.most_similar(['사랑', '노래', '이별'])"
   ]
  },
  {
   "cell_type": "code",
   "execution_count": 103,
   "metadata": {},
   "outputs": [
    {
     "data": {
      "text/plain": [
       "[('고양이', 0.8282431364059448),\n",
       " ('브람스', 0.7936423420906067),\n",
       " ('남자친구', 0.7774248123168945),\n",
       " ('어머니', 0.7496374845504761),\n",
       " ('모차르트', 0.7490538954734802),\n",
       " ('습관', 0.7449907064437866),\n",
       " ('Dr', 0.7421106100082397),\n",
       " ('JAY', 0.7416847944259644),\n",
       " ('하루하루', 0.7395118474960327),\n",
       " ('약속', 0.7324556708335876)]"
      ]
     },
     "execution_count": 103,
     "metadata": {},
     "output_type": "execute_result"
    }
   ],
   "source": [
    "w2v_song.wv.most_similar('강아지')"
   ]
  },
  {
   "cell_type": "code",
   "execution_count": 104,
   "metadata": {},
   "outputs": [
    {
     "data": {
      "text/plain": [
       "[('싫', 0.5804653763771057),\n",
       " ('괜찮', 0.5661828517913818),\n",
       " ('편하', 0.5285683274269104),\n",
       " ('전환', 0.498910129070282),\n",
       " ('같', 0.4892566502094269),\n",
       " ('좋은 날', 0.480365127325058),\n",
       " ('딱', 0.4626913368701935),\n",
       " ('밝', 0.4443982243537903),\n",
       " ('아깝', 0.4437227249145508),\n",
       " ('아쉽', 0.43941986560821533)]"
      ]
     },
     "execution_count": 104,
     "metadata": {},
     "output_type": "execute_result"
    }
   ],
   "source": [
    "w2v_song.wv.most_similar('좋')"
   ]
  },
  {
   "cell_type": "markdown",
   "metadata": {},
   "source": [
    "- genre를 추가해서 태그랑 같이 학습해도될듯"
   ]
  }
 ],
 "metadata": {
  "kernelspec": {
   "display_name": "Python 3",
   "language": "python",
   "name": "python3"
  },
  "language_info": {
   "codemirror_mode": {
    "name": "ipython",
    "version": 3
   },
   "file_extension": ".py",
   "mimetype": "text/x-python",
   "name": "python",
   "nbconvert_exporter": "python",
   "pygments_lexer": "ipython3",
   "version": "3.7.1"
  }
 },
 "nbformat": 4,
 "nbformat_minor": 4
}
