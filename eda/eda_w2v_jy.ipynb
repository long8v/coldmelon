{
 "cells": [
  {
   "cell_type": "code",
   "execution_count": 1,
   "metadata": {},
   "outputs": [],
   "source": [
    "import pandas as pd\n",
    "from collections import Counter"
   ]
  },
  {
   "cell_type": "code",
   "execution_count": 2,
   "metadata": {},
   "outputs": [],
   "source": [
    "train = pd.read_json('../file/train.json', encoding='utf-8')"
   ]
  },
  {
   "cell_type": "code",
   "execution_count": 3,
   "metadata": {},
   "outputs": [],
   "source": [
    "validation = pd.read_json('../file/val.json', encoding='utf-8')"
   ]
  },
  {
   "cell_type": "code",
   "execution_count": null,
   "metadata": {
    "scrolled": false
   },
   "outputs": [],
   "source": [
    "# validation.head(100).songs.apply(lambda e: len(e))"
   ]
  },
  {
   "cell_type": "code",
   "execution_count": 5,
   "metadata": {},
   "outputs": [],
   "source": [
    "song_meta = pd.read_json('../file/song_meta.json', encoding='utf-8')"
   ]
  },
  {
   "cell_type": "code",
   "execution_count": null,
   "metadata": {},
   "outputs": [],
   "source": [
    "Counter([len(_) for _ in train.tags]).most_common()"
   ]
  },
  {
   "cell_type": "code",
   "execution_count": null,
   "metadata": {},
   "outputs": [],
   "source": [
    "tag_count = Counter([__ for _ in train.tags for __ in _])"
   ]
  },
  {
   "cell_type": "code",
   "execution_count": null,
   "metadata": {},
   "outputs": [],
   "source": [
    "len(tag_count)"
   ]
  },
  {
   "cell_type": "code",
   "execution_count": null,
   "metadata": {},
   "outputs": [],
   "source": [
    "len(list(filter(lambda e: e[1] > 10, tag_count.items())))"
   ]
  },
  {
   "cell_type": "code",
   "execution_count": null,
   "metadata": {
    "scrolled": false
   },
   "outputs": [],
   "source": [
    "tag_count.most_common(20)"
   ]
  },
  {
   "cell_type": "markdown",
   "metadata": {},
   "source": [
    "## tag들로 word2vec 학습이 될까?"
   ]
  },
  {
   "cell_type": "code",
   "execution_count": null,
   "metadata": {},
   "outputs": [],
   "source": [
    "from gensim.models import Word2Vec"
   ]
  },
  {
   "cell_type": "code",
   "execution_count": null,
   "metadata": {},
   "outputs": [],
   "source": [
    "w2v = Word2Vec(train.tags, min_count=10, window=2)"
   ]
  },
  {
   "cell_type": "code",
   "execution_count": null,
   "metadata": {},
   "outputs": [],
   "source": [
    "w2v.wv.most_similar(positive=['힙합'], negative=['감성'])"
   ]
  },
  {
   "cell_type": "code",
   "execution_count": null,
   "metadata": {},
   "outputs": [],
   "source": [
    "w2v.wv.most_similar('감성')"
   ]
  },
  {
   "cell_type": "code",
   "execution_count": null,
   "metadata": {},
   "outputs": [],
   "source": [
    "w2v.wv.most_similar('락')"
   ]
  },
  {
   "cell_type": "code",
   "execution_count": null,
   "metadata": {},
   "outputs": [],
   "source": [
    "w2v.wv.most_similar('비')"
   ]
  },
  {
   "cell_type": "code",
   "execution_count": null,
   "metadata": {},
   "outputs": [],
   "source": [
    "w2v.wv.most_similar('매장음악')"
   ]
  },
  {
   "cell_type": "code",
   "execution_count": null,
   "metadata": {},
   "outputs": [],
   "source": [
    "w2v.wv['매장음악']"
   ]
  },
  {
   "cell_type": "markdown",
   "metadata": {},
   "source": [
    "## playlist제목으로 word2vec이 될까?"
   ]
  },
  {
   "cell_type": "code",
   "execution_count": 6,
   "metadata": {},
   "outputs": [],
   "source": [
    "from konlpy.tag import Komoran"
   ]
  },
  {
   "cell_type": "code",
   "execution_count": 7,
   "metadata": {},
   "outputs": [
    {
     "name": "stderr",
     "output_type": "stream",
     "text": [
      "C:\\Users\\long8v\\Anaconda3\\envs\\long36v\\lib\\site-packages\\jpype\\_core.py:210: UserWarning: \n",
      "-------------------------------------------------------------------------------\n",
      "Deprecated: convertStrings was not specified when starting the JVM. The default\n",
      "behavior in JPype will be False starting in JPype 0.8. The recommended setting\n",
      "for new code is convertStrings=False.  The legacy value of True was assumed for\n",
      "this session. If you are a user of an application that reported this warning,\n",
      "please file a ticket with the developer.\n",
      "-------------------------------------------------------------------------------\n",
      "\n",
      "  \"\"\")\n"
     ]
    }
   ],
   "source": [
    "pos = Komoran()\n",
    "# pos = Kkma()"
   ]
  },
  {
   "cell_type": "code",
   "execution_count": 8,
   "metadata": {},
   "outputs": [
    {
     "data": {
      "text/plain": [
       "[('안녕하세요', 'NNP'), ('현수', 'NNP'), ('씨', 'NNB')]"
      ]
     },
     "execution_count": 8,
     "metadata": {},
     "output_type": "execute_result"
    }
   ],
   "source": [
    "pos.pos('안녕하세요 현수씨')"
   ]
  },
  {
   "cell_type": "code",
   "execution_count": 9,
   "metadata": {},
   "outputs": [],
   "source": [
    "train['plyst_title_pos'] = train.plylst_title.apply(lambda e: [_[0] for _ in pos.pos(e)\n",
    "                                                              if not _[1].startswith('J') \n",
    "                                                              and len(_[0])>1])"
   ]
  },
  {
   "cell_type": "code",
   "execution_count": 10,
   "metadata": {},
   "outputs": [],
   "source": [
    "def get_pos(e):\n",
    "    try:\n",
    "        return [_[0] for _ in pos.pos(e) if not _[1].startswith('J') and len(_[0])>1]\n",
    "    except:\n",
    "        return []"
   ]
  },
  {
   "cell_type": "code",
   "execution_count": 30,
   "metadata": {},
   "outputs": [],
   "source": [
    "validation['plyst_title_pos'] = validation.plylst_title.apply(lambda e: get_pos(e))"
   ]
  },
  {
   "cell_type": "code",
   "execution_count": null,
   "metadata": {},
   "outputs": [],
   "source": [
    "w2v_song = Word2Vec(train.plyst_title_pos, min_count=10)"
   ]
  },
  {
   "cell_type": "code",
   "execution_count": null,
   "metadata": {},
   "outputs": [],
   "source": [
    "w2v_song.wv.most_similar('노래')"
   ]
  },
  {
   "cell_type": "code",
   "execution_count": null,
   "metadata": {},
   "outputs": [],
   "source": [
    "w2v_song.wv.most_similar(['사랑', '노래', '이별'])"
   ]
  },
  {
   "cell_type": "code",
   "execution_count": null,
   "metadata": {},
   "outputs": [],
   "source": [
    "w2v_song.wv.most_similar('강아지')"
   ]
  },
  {
   "cell_type": "markdown",
   "metadata": {},
   "source": [
    "#  장르"
   ]
  },
  {
   "cell_type": "code",
   "execution_count": 12,
   "metadata": {},
   "outputs": [],
   "source": [
    "song_meta = pd.read_json('../file/song_meta.json', encoding='utf-8')"
   ]
  },
  {
   "cell_type": "code",
   "execution_count": 13,
   "metadata": {},
   "outputs": [],
   "source": [
    "import json\n",
    "import itertools"
   ]
  },
  {
   "cell_type": "code",
   "execution_count": 14,
   "metadata": {},
   "outputs": [],
   "source": [
    "with open('../file/genre_gn_all.json', encoding='utf-8') as f:\n",
    "    genre = json.load(f)"
   ]
  },
  {
   "cell_type": "code",
   "execution_count": 15,
   "metadata": {},
   "outputs": [],
   "source": [
    "genre = {key: (genre[key[:-1]+'0'] if key[-2:] =='01' else value) for key, value in genre.items()}"
   ]
  },
  {
   "cell_type": "code",
   "execution_count": 16,
   "metadata": {},
   "outputs": [],
   "source": [
    "song_meta['genre_list'] = song_meta.song_gn_dtl_gnr_basket"
   ]
  },
  {
   "cell_type": "code",
   "execution_count": 17,
   "metadata": {},
   "outputs": [],
   "source": [
    "song_meta['song_gn_word'] = song_meta.genre_list.apply(lambda e: list(map(lambda x: genre[x], filter(lambda y: y in genre, e))))"
   ]
  },
  {
   "cell_type": "code",
   "execution_count": 18,
   "metadata": {},
   "outputs": [],
   "source": [
    "song_meta['song_gn_word_split'] = song_meta.song_gn_word.apply(lambda e: list(itertools.chain(*map(lambda x: x.split('/'), e))))"
   ]
  },
  {
   "cell_type": "code",
   "execution_count": 19,
   "metadata": {},
   "outputs": [],
   "source": [
    "song_meta_dropna = song_meta.dropna(subset=['song_gn_word_split'])"
   ]
  },
  {
   "cell_type": "code",
   "execution_count": 20,
   "metadata": {},
   "outputs": [],
   "source": [
    "song_id_genre = dict(zip(song_meta_dropna['id'], song_meta_dropna['song_gn_word_split']))"
   ]
  },
  {
   "cell_type": "code",
   "execution_count": 21,
   "metadata": {},
   "outputs": [],
   "source": [
    "train['genre'] = train.songs.apply(lambda e: Counter(itertools.chain(*list(map(lambda x: song_id_genre[x], e)))).most_common(5))\n",
    "validation['genre'] = validation.songs.apply(lambda e: Counter(itertools.chain(*list(map(lambda x: song_id_genre[x], e)))).most_common(5))"
   ]
  },
  {
   "cell_type": "code",
   "execution_count": 22,
   "metadata": {},
   "outputs": [],
   "source": [
    "train['genre_kor'] = train['genre'].apply(lambda e: list(list(zip(*e))[0]) if e else [])\n",
    "validation['genre_kor'] = validation['genre'].apply(lambda e: list(list(zip(*e))[0]) if e else [])"
   ]
  },
  {
   "cell_type": "code",
   "execution_count": 23,
   "metadata": {},
   "outputs": [],
   "source": [
    "corpus = train.tags + train.plyst_title_pos + train.genre_kor"
   ]
  },
  {
   "cell_type": "code",
   "execution_count": null,
   "metadata": {},
   "outputs": [],
   "source": [
    "def cleansing(string):\n",
    "    kor_alpha = re.compile('[ㄱ-ㅎ]')\n",
    "    etc = re.compile(re.escape(\"',./;[]_-=()*&^%$#@!~\"))\n",
    "    re_list = [kor_alpha, etc]\n",
    "    for pttn in re_list:\n",
    "        string = pttn.sub(\"\", string)\n",
    "    string = string.lower()\n",
    "    return string"
   ]
  },
  {
   "cell_type": "code",
   "execution_count": null,
   "metadata": {},
   "outputs": [],
   "source": [
    "corpus = list(map(lambda e: [cleansing(word) for word in e if cleansing(word)], corpus))"
   ]
  },
  {
   "cell_type": "code",
   "execution_count": 29,
   "metadata": {},
   "outputs": [
    {
     "data": {
      "text/html": [
       "<div>\n",
       "<style scoped>\n",
       "    .dataframe tbody tr th:only-of-type {\n",
       "        vertical-align: middle;\n",
       "    }\n",
       "\n",
       "    .dataframe tbody tr th {\n",
       "        vertical-align: top;\n",
       "    }\n",
       "\n",
       "    .dataframe thead th {\n",
       "        text-align: right;\n",
       "    }\n",
       "</style>\n",
       "<table border=\"1\" class=\"dataframe\">\n",
       "  <thead>\n",
       "    <tr style=\"text-align: right;\">\n",
       "      <th></th>\n",
       "      <th>tags</th>\n",
       "      <th>id</th>\n",
       "      <th>plylst_title</th>\n",
       "      <th>songs</th>\n",
       "      <th>like_cnt</th>\n",
       "      <th>updt_date</th>\n",
       "      <th>plyst_title_pos</th>\n",
       "      <th>genre</th>\n",
       "      <th>genre_kor</th>\n",
       "    </tr>\n",
       "  </thead>\n",
       "  <tbody>\n",
       "    <tr>\n",
       "      <td>0</td>\n",
       "      <td>[]</td>\n",
       "      <td>118598</td>\n",
       "      <td></td>\n",
       "      <td>[373313, 151080, 275346, 696876, 165237, 52593...</td>\n",
       "      <td>1675</td>\n",
       "      <td>2019-05-27 14:14:33.000</td>\n",
       "      <td>[]</td>\n",
       "      <td>[(애니메이션, 39), (OST, 25), (웹툰, 20), (게임, 19), (...</td>\n",
       "      <td>[애니메이션, OST, 웹툰, 게임, 만화]</td>\n",
       "    </tr>\n",
       "    <tr>\n",
       "      <td>1</td>\n",
       "      <td>[]</td>\n",
       "      <td>131447</td>\n",
       "      <td>앨리스테이블</td>\n",
       "      <td>[]</td>\n",
       "      <td>1</td>\n",
       "      <td>2014-07-16 15:24:24.000</td>\n",
       "      <td>[앨리스, 테이블]</td>\n",
       "      <td>[]</td>\n",
       "      <td>[]</td>\n",
       "    </tr>\n",
       "    <tr>\n",
       "      <td>2</td>\n",
       "      <td>[]</td>\n",
       "      <td>51464</td>\n",
       "      <td></td>\n",
       "      <td>[529437, 516103, 360067, 705713, 226062, 37089...</td>\n",
       "      <td>62</td>\n",
       "      <td>2008-06-21 23:26:22.000</td>\n",
       "      <td>[]</td>\n",
       "      <td>[(발라드, 11), ('00, 9), (R&amp;B, 5), (Soul, 3), (OS...</td>\n",
       "      <td>[발라드, '00, R&amp;B, Soul, OST]</td>\n",
       "    </tr>\n",
       "    <tr>\n",
       "      <td>3</td>\n",
       "      <td>[]</td>\n",
       "      <td>45144</td>\n",
       "      <td></td>\n",
       "      <td>[589668, 21711, 570151, 320043, 13930, 599327,...</td>\n",
       "      <td>20</td>\n",
       "      <td>2017-10-30 18:15:43.000</td>\n",
       "      <td>[]</td>\n",
       "      <td>[('10-, 16), (발라드, 13), (포크, 6), (인디음악, 5), ('...</td>\n",
       "      <td>['10-, 발라드, 포크, 인디음악, '00]</td>\n",
       "    </tr>\n",
       "    <tr>\n",
       "      <td>4</td>\n",
       "      <td>[]</td>\n",
       "      <td>79929</td>\n",
       "      <td></td>\n",
       "      <td>[672718, 121924, 102694, 683657, 201558, 38511...</td>\n",
       "      <td>20</td>\n",
       "      <td>2017-02-07 11:40:42.000</td>\n",
       "      <td>[]</td>\n",
       "      <td>[(CCM, 8), (국내CCM, 4), (워십, 4)]</td>\n",
       "      <td>[CCM, 국내CCM, 워십]</td>\n",
       "    </tr>\n",
       "    <tr>\n",
       "      <td>...</td>\n",
       "      <td>...</td>\n",
       "      <td>...</td>\n",
       "      <td>...</td>\n",
       "      <td>...</td>\n",
       "      <td>...</td>\n",
       "      <td>...</td>\n",
       "      <td>...</td>\n",
       "      <td>...</td>\n",
       "      <td>...</td>\n",
       "    </tr>\n",
       "    <tr>\n",
       "      <td>95</td>\n",
       "      <td>[산책]</td>\n",
       "      <td>19457</td>\n",
       "      <td></td>\n",
       "      <td>[243342, 632748, 705767, 15408, 181397, 251375...</td>\n",
       "      <td>12</td>\n",
       "      <td>2017-02-28 11:23:25.000</td>\n",
       "      <td>[]</td>\n",
       "      <td>[(댄스, 61), (아이돌, 33), ('10-, 27), (여자 아이돌, 25)...</td>\n",
       "      <td>[댄스, 아이돌, '10-, 여자 아이돌, 남자 아이돌]</td>\n",
       "    </tr>\n",
       "    <tr>\n",
       "      <td>96</td>\n",
       "      <td>[재즈페스티벌, 애시드재즈, 힐링, 노라존스, 재즈팝]</td>\n",
       "      <td>129612</td>\n",
       "      <td>아름다운 악기들과 미친 음색들의 조합!  재즈 팝의 매력</td>\n",
       "      <td>[]</td>\n",
       "      <td>28</td>\n",
       "      <td>2019-04-10 02:18:27.000</td>\n",
       "      <td>[아름답, 악기, 미치, 음색, 조합, 재즈 팝, 매력]</td>\n",
       "      <td>[]</td>\n",
       "      <td>[]</td>\n",
       "    </tr>\n",
       "    <tr>\n",
       "      <td>97</td>\n",
       "      <td>[]</td>\n",
       "      <td>829</td>\n",
       "      <td></td>\n",
       "      <td>[439874, 256479, 337151, 627035, 256438, 44131...</td>\n",
       "      <td>26</td>\n",
       "      <td>2014-11-02 14:30:06.000</td>\n",
       "      <td>[]</td>\n",
       "      <td>[(재즈, 4), (발라드, 2), (블루스, 2), (애시드, 1), (퓨전, 1)]</td>\n",
       "      <td>[재즈, 발라드, 블루스, 애시드, 퓨전]</td>\n",
       "    </tr>\n",
       "    <tr>\n",
       "      <td>98</td>\n",
       "      <td>[]</td>\n",
       "      <td>145963</td>\n",
       "      <td></td>\n",
       "      <td>[314283, 29842, 372235, 248226, 377807, 508608...</td>\n",
       "      <td>0</td>\n",
       "      <td>2019-05-01 17:04:40.000</td>\n",
       "      <td>[]</td>\n",
       "      <td>[(댄스, 16), ('10-, 10), (아이돌, 9), (여자 아이돌, 8), ...</td>\n",
       "      <td>[댄스, '10-, 아이돌, 여자 아이돌, 발라드]</td>\n",
       "    </tr>\n",
       "    <tr>\n",
       "      <td>99</td>\n",
       "      <td>[]</td>\n",
       "      <td>5117</td>\n",
       "      <td></td>\n",
       "      <td>[546023, 477991, 445306, 288248, 663720, 69492...</td>\n",
       "      <td>29</td>\n",
       "      <td>2015-05-20 14:43:59.000</td>\n",
       "      <td>[]</td>\n",
       "      <td>[(일렉트로니카, 5), (R&amp;B, 5), (Soul, 5), (컨템포러리 R&amp;B,...</td>\n",
       "      <td>[일렉트로니카, R&amp;B, Soul, 컨템포러리 R&amp;B, 클럽뮤직]</td>\n",
       "    </tr>\n",
       "  </tbody>\n",
       "</table>\n",
       "<p>100 rows × 9 columns</p>\n",
       "</div>"
      ],
      "text/plain": [
       "                              tags      id                     plylst_title  \\\n",
       "0                               []  118598                                    \n",
       "1                               []  131447                           앨리스테이블   \n",
       "2                               []   51464                                    \n",
       "3                               []   45144                                    \n",
       "4                               []   79929                                    \n",
       "..                             ...     ...                              ...   \n",
       "95                            [산책]   19457                                    \n",
       "96  [재즈페스티벌, 애시드재즈, 힐링, 노라존스, 재즈팝]  129612  아름다운 악기들과 미친 음색들의 조합!  재즈 팝의 매력   \n",
       "97                              []     829                                    \n",
       "98                              []  145963                                    \n",
       "99                              []    5117                                    \n",
       "\n",
       "                                                songs  like_cnt  \\\n",
       "0   [373313, 151080, 275346, 696876, 165237, 52593...      1675   \n",
       "1                                                  []         1   \n",
       "2   [529437, 516103, 360067, 705713, 226062, 37089...        62   \n",
       "3   [589668, 21711, 570151, 320043, 13930, 599327,...        20   \n",
       "4   [672718, 121924, 102694, 683657, 201558, 38511...        20   \n",
       "..                                                ...       ...   \n",
       "95  [243342, 632748, 705767, 15408, 181397, 251375...        12   \n",
       "96                                                 []        28   \n",
       "97  [439874, 256479, 337151, 627035, 256438, 44131...        26   \n",
       "98  [314283, 29842, 372235, 248226, 377807, 508608...         0   \n",
       "99  [546023, 477991, 445306, 288248, 663720, 69492...        29   \n",
       "\n",
       "                  updt_date                  plyst_title_pos  \\\n",
       "0   2019-05-27 14:14:33.000                               []   \n",
       "1   2014-07-16 15:24:24.000                       [앨리스, 테이블]   \n",
       "2   2008-06-21 23:26:22.000                               []   \n",
       "3   2017-10-30 18:15:43.000                               []   \n",
       "4   2017-02-07 11:40:42.000                               []   \n",
       "..                      ...                              ...   \n",
       "95  2017-02-28 11:23:25.000                               []   \n",
       "96  2019-04-10 02:18:27.000  [아름답, 악기, 미치, 음색, 조합, 재즈 팝, 매력]   \n",
       "97  2014-11-02 14:30:06.000                               []   \n",
       "98  2019-05-01 17:04:40.000                               []   \n",
       "99  2015-05-20 14:43:59.000                               []   \n",
       "\n",
       "                                                genre  \\\n",
       "0   [(애니메이션, 39), (OST, 25), (웹툰, 20), (게임, 19), (...   \n",
       "1                                                  []   \n",
       "2   [(발라드, 11), ('00, 9), (R&B, 5), (Soul, 3), (OS...   \n",
       "3   [('10-, 16), (발라드, 13), (포크, 6), (인디음악, 5), ('...   \n",
       "4                     [(CCM, 8), (국내CCM, 4), (워십, 4)]   \n",
       "..                                                ...   \n",
       "95  [(댄스, 61), (아이돌, 33), ('10-, 27), (여자 아이돌, 25)...   \n",
       "96                                                 []   \n",
       "97   [(재즈, 4), (발라드, 2), (블루스, 2), (애시드, 1), (퓨전, 1)]   \n",
       "98  [(댄스, 16), ('10-, 10), (아이돌, 9), (여자 아이돌, 8), ...   \n",
       "99  [(일렉트로니카, 5), (R&B, 5), (Soul, 5), (컨템포러리 R&B,...   \n",
       "\n",
       "                               genre_kor  \n",
       "0               [애니메이션, OST, 웹툰, 게임, 만화]  \n",
       "1                                     []  \n",
       "2             [발라드, '00, R&B, Soul, OST]  \n",
       "3             ['10-, 발라드, 포크, 인디음악, '00]  \n",
       "4                       [CCM, 국내CCM, 워십]  \n",
       "..                                   ...  \n",
       "95       [댄스, 아이돌, '10-, 여자 아이돌, 남자 아이돌]  \n",
       "96                                    []  \n",
       "97               [재즈, 발라드, 블루스, 애시드, 퓨전]  \n",
       "98          [댄스, '10-, 아이돌, 여자 아이돌, 발라드]  \n",
       "99  [일렉트로니카, R&B, Soul, 컨템포러리 R&B, 클럽뮤직]  \n",
       "\n",
       "[100 rows x 9 columns]"
      ]
     },
     "execution_count": 29,
     "metadata": {},
     "output_type": "execute_result"
    }
   ],
   "source": [
    "validation.head(100)"
   ]
  },
  {
   "cell_type": "code",
   "execution_count": 34,
   "metadata": {},
   "outputs": [],
   "source": [
    "train.to_pickle('../file/train_pos.pickle')\n",
    "validation.to_pickle('../file/validation_pos.pickle')"
   ]
  },
  {
   "cell_type": "code",
   "execution_count": null,
   "metadata": {},
   "outputs": [],
   "source": [
    "w2v_all = Word2Vec(train.tags, min_count=10, window=10, size=200)"
   ]
  },
  {
   "cell_type": "code",
   "execution_count": null,
   "metadata": {},
   "outputs": [],
   "source": [
    "w2v.save('../file/w2v.model')"
   ]
  },
  {
   "cell_type": "markdown",
   "metadata": {},
   "source": [
    "- genre를 추가해서 태그랑 같이 학습해도될듯"
   ]
  }
 ],
 "metadata": {
  "kernelspec": {
   "display_name": "Python 3",
   "language": "python",
   "name": "python3"
  },
  "language_info": {
   "codemirror_mode": {
    "name": "ipython",
    "version": 3
   },
   "file_extension": ".py",
   "mimetype": "text/x-python",
   "name": "python",
   "nbconvert_exporter": "python",
   "pygments_lexer": "ipython3",
   "version": "3.6.10"
  }
 },
 "nbformat": 4,
 "nbformat_minor": 4
}
