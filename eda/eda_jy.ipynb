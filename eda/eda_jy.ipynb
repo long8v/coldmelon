{
 "cells": [
  {
   "cell_type": "code",
   "execution_count": 10,
   "metadata": {},
   "outputs": [],
   "source": [
    "import pandas as pd\n",
    "from collections import Counter"
   ]
  },
  {
   "cell_type": "code",
   "execution_count": 3,
   "metadata": {},
   "outputs": [],
   "source": [
    "train = pd.read_json('../file/train.json')"
   ]
  },
  {
   "cell_type": "code",
   "execution_count": 4,
   "metadata": {},
   "outputs": [],
   "source": [
    "tag_count = Counter([__ for _ in train.tags for __ in _])"
   ]
  },
  {
   "cell_type": "code",
   "execution_count": 5,
   "metadata": {},
   "outputs": [
    {
     "data": {
      "text/plain": [
       "29160"
      ]
     },
     "execution_count": 5,
     "metadata": {},
     "output_type": "execute_result"
    }
   ],
   "source": [
    "len(tag_count)"
   ]
  },
  {
   "cell_type": "code",
   "execution_count": 6,
   "metadata": {},
   "outputs": [
    {
     "data": {
      "text/plain": [
       "445"
      ]
     },
     "execution_count": 6,
     "metadata": {},
     "output_type": "execute_result"
    }
   ],
   "source": [
    "len(list(filter(lambda e: e[1] > 100, tag_count.items())))"
   ]
  },
  {
   "cell_type": "code",
   "execution_count": 7,
   "metadata": {
    "scrolled": false
   },
   "outputs": [
    {
     "data": {
      "text/plain": [
       "[('기분전환', 16465),\n",
       " ('감성', 11417),\n",
       " ('휴식', 11215),\n",
       " ('발라드', 10796),\n",
       " ('잔잔한', 10218),\n",
       " ('드라이브', 10095),\n",
       " ('힐링', 9783),\n",
       " ('사랑', 8704),\n",
       " ('새벽', 8320),\n",
       " ('밤', 7615),\n",
       " ('카페', 6837),\n",
       " ('추억', 6520),\n",
       " ('팝', 6425),\n",
       " ('힙합', 6413),\n",
       " ('이별', 5400),\n",
       " ('설렘', 4910),\n",
       " ('신나는', 4861),\n",
       " ('회상', 4579),\n",
       " ('매장음악', 4576),\n",
       " ('여행', 4559)]"
      ]
     },
     "execution_count": 7,
     "metadata": {},
     "output_type": "execute_result"
    }
   ],
   "source": [
    "tag_count.most_common(20)"
   ]
  },
  {
   "cell_type": "code",
   "execution_count": 14,
   "metadata": {},
   "outputs": [],
   "source": [
    "from gensim.models import Word2Vec"
   ]
  },
  {
   "cell_type": "code",
   "execution_count": 19,
   "metadata": {},
   "outputs": [],
   "source": [
    "w2v = Word2Vec(train.tags, min_count=10)"
   ]
  },
  {
   "cell_type": "code",
   "execution_count": 20,
   "metadata": {},
   "outputs": [
    {
     "data": {
      "text/plain": [
       "[('국내힙합', 0.8479397892951965),\n",
       " ('비트', 0.795807957649231),\n",
       " ('Rap', 0.7754082083702087),\n",
       " ('외국힙합', 0.7726528644561768),\n",
       " ('국힙', 0.7718034386634827),\n",
       " ('외힙', 0.7634004354476929),\n",
       " ('HipHop', 0.7495577931404114),\n",
       " ('랩힙합', 0.7407480478286743),\n",
       " ('감성힙합', 0.7281849980354309),\n",
       " ('한국힙합', 0.708418071269989)]"
      ]
     },
     "execution_count": 20,
     "metadata": {},
     "output_type": "execute_result"
    }
   ],
   "source": [
    "w2v.wv.most_similar('힙합')"
   ]
  },
  {
   "cell_type": "code",
   "execution_count": 21,
   "metadata": {},
   "outputs": [
    {
     "data": {
      "text/plain": [
       "[('센치', 0.7284958958625793),\n",
       " ('흐린날', 0.7153206467628479),\n",
       " ('가을비', 0.7093040347099304),\n",
       " ('비오는날', 0.709199070930481),\n",
       " ('새벽감성', 0.7056121230125427),\n",
       " ('가을감성', 0.6677485704421997),\n",
       " ('감성곡', 0.6629060506820679),\n",
       " ('발라드', 0.6600149273872375),\n",
       " ('듣기좋은', 0.6564172506332397),\n",
       " ('가을노래', 0.6474925875663757)]"
      ]
     },
     "execution_count": 21,
     "metadata": {},
     "output_type": "execute_result"
    }
   ],
   "source": [
    "w2v.wv.most_similar('감성')"
   ]
  },
  {
   "cell_type": "code",
   "execution_count": 22,
   "metadata": {},
   "outputs": [
    {
     "data": {
      "text/plain": [
       "[('브릿팝', 0.9184226989746094),\n",
       " ('밴드', 0.9163761138916016),\n",
       " ('록', 0.9157668948173523),\n",
       " ('얼터너티브', 0.9011594653129578),\n",
       " ('Rock', 0.8976125121116638),\n",
       " ('헤비메탈', 0.8858965039253235),\n",
       " ('메탈', 0.8846657276153564),\n",
       " ('모던락', 0.8715028166770935),\n",
       " ('legend', 0.8645877838134766),\n",
       " ('락메탈', 0.8383376598358154)]"
      ]
     },
     "execution_count": 22,
     "metadata": {},
     "output_type": "execute_result"
    }
   ],
   "source": [
    "w2v.wv.most_similar('락')"
   ]
  },
  {
   "cell_type": "code",
   "execution_count": 23,
   "metadata": {},
   "outputs": [
    {
     "data": {
      "text/plain": [
       "[('장마', 0.9663899540901184),\n",
       " ('흐린날', 0.9543982744216919),\n",
       " ('우산', 0.9380667805671692),\n",
       " ('비오는날', 0.934044599533081),\n",
       " ('소나기', 0.8948380947113037),\n",
       " ('비올때', 0.8932018280029297),\n",
       " ('봄비', 0.8694578409194946),\n",
       " ('가을비', 0.8519243597984314),\n",
       " ('rain', 0.8447345495223999),\n",
       " ('빗소리', 0.8234868049621582)]"
      ]
     },
     "execution_count": 23,
     "metadata": {},
     "output_type": "execute_result"
    }
   ],
   "source": [
    "w2v.wv.most_similar('비')"
   ]
  },
  {
   "cell_type": "code",
   "execution_count": 24,
   "metadata": {},
   "outputs": [
    {
     "data": {
      "text/plain": [
       "[('매장', 0.8900620341300964),\n",
       " ('느낌있는', 0.7855144739151001),\n",
       " ('커피숍', 0.7703858017921448),\n",
       " ('주말', 0.7314794659614563),\n",
       " ('감각적인', 0.7312874794006348),\n",
       " ('매장노래', 0.7244219779968262),\n",
       " ('커피', 0.7212777137756348),\n",
       " ('분위기있는', 0.7188633680343628),\n",
       " ('펍', 0.6802124381065369),\n",
       " ('cafe', 0.679817795753479)]"
      ]
     },
     "execution_count": 24,
     "metadata": {},
     "output_type": "execute_result"
    }
   ],
   "source": [
    "w2v.wv.most_similar('매장음악')"
   ]
  },
  {
   "cell_type": "code",
   "execution_count": null,
   "metadata": {},
   "outputs": [],
   "source": []
  }
 ],
 "metadata": {
  "kernelspec": {
   "display_name": "Python 3",
   "language": "python",
   "name": "python3"
  },
  "language_info": {
   "codemirror_mode": {
    "name": "ipython",
    "version": 3
   },
   "file_extension": ".py",
   "mimetype": "text/x-python",
   "name": "python",
   "nbconvert_exporter": "python",
   "pygments_lexer": "ipython3",
   "version": "3.7.4"
  }
 },
 "nbformat": 4,
 "nbformat_minor": 4
}
