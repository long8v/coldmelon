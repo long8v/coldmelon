{
 "cells": [
  {
   "cell_type": "code",
   "execution_count": 1,
   "metadata": {},
   "outputs": [],
   "source": [
    "import pickle\n",
    "import numpy as np\n",
    "import pandas as pd\n",
    "import scipy.sparse as spr\n",
    "from collections import Counter\n",
    "from scipy.sparse import hstack, vstack\n",
    "from tqdm.auto import tqdm\n",
    "\n",
    "song_meta = pd.read_json(\"./../data/song_meta.json\")\n",
    "train = pd.read_json(\"./../data/train.json\")\n",
    "test = pd.read_json(\"./../data/val.json\")"
   ]
  },
  {
   "cell_type": "code",
   "execution_count": 2,
   "metadata": {},
   "outputs": [],
   "source": [
    "train['istrain'] = 1\n",
    "test['istrain'] = 0\n",
    "\n",
    "n_train = len(train)\n",
    "n_test = len(test)\n",
    "\n",
    "# train + test\n",
    "plylst = pd.concat([train, test], ignore_index=True)\n",
    "\n",
    "# playlist id\n",
    "plylst[\"nid\"] = range(n_train + n_test)\n",
    "\n",
    "# id <-> nid\n",
    "plylst_id_nid = dict(zip(plylst[\"id\"],plylst[\"nid\"]))\n",
    "plylst_nid_id = dict(zip(plylst[\"nid\"],plylst[\"id\"]))"
   ]
  },
  {
   "cell_type": "code",
   "execution_count": 3,
   "metadata": {},
   "outputs": [],
   "source": [
    "plylst_tag = plylst['tags']\n",
    "tag_counter = Counter([tg for tgs in plylst_tag for tg in tgs])\n",
    "tag_dict = {x: tag_counter[x] for x in tag_counter}\n",
    "\n",
    "tag_id_tid = dict()\n",
    "tag_tid_id = dict()\n",
    "for i, t in enumerate(tag_dict):\n",
    "    tag_id_tid[t] = i\n",
    "    tag_tid_id[i] = t\n",
    "\n",
    "n_tags = len(tag_dict)\n",
    "\n",
    "plylst_song = plylst['songs']\n",
    "song_counter = Counter([sg for sgs in plylst_song for sg in sgs])\n",
    "song_dict = {x: song_counter[x] for x in song_counter}\n",
    "\n",
    "song_id_sid = dict()\n",
    "song_sid_id = dict()\n",
    "for i, t in enumerate(song_dict):\n",
    "    song_id_sid[t] = i\n",
    "    song_sid_id[i] = t\n",
    "\n",
    "n_songs = len(song_dict)"
   ]
  },
  {
   "cell_type": "code",
   "execution_count": 4,
   "metadata": {},
   "outputs": [
    {
     "name": "stderr",
     "output_type": "stream",
     "text": [
      "/Users/jonghyunlee/anaconda3/envs/spotlight/lib/python3.6/site-packages/pandas/core/indexing.py:845: SettingWithCopyWarning: \n",
      "A value is trying to be set on a copy of a slice from a DataFrame.\n",
      "Try using .loc[row_indexer,col_indexer] = value instead\n",
      "\n",
      "See the caveats in the documentation: https://pandas.pydata.org/pandas-docs/stable/user_guide/indexing.html#returning-a-view-versus-a-copy\n",
      "  self.obj[key] = _infer_fill_value(value)\n",
      "/Users/jonghyunlee/anaconda3/envs/spotlight/lib/python3.6/site-packages/pandas/core/indexing.py:966: SettingWithCopyWarning: \n",
      "A value is trying to be set on a copy of a slice from a DataFrame.\n",
      "Try using .loc[row_indexer,col_indexer] = value instead\n",
      "\n",
      "See the caveats in the documentation: https://pandas.pydata.org/pandas-docs/stable/user_guide/indexing.html#returning-a-view-versus-a-copy\n",
      "  self.obj[item] = s\n"
     ]
    }
   ],
   "source": [
    "plylst['songs_id'] = plylst['songs'].map(lambda x: [song_id_sid.get(s) for s in x if song_id_sid.get(s) != None])\n",
    "plylst['tags_id'] = plylst['tags'].map(lambda x: [tag_id_tid.get(t) for t in x if tag_id_tid.get(t) != None])\n",
    "\n",
    "plylst_use = plylst[['istrain','nid','updt_date','songs_id','tags_id']]\n",
    "\n",
    "# 곡의 개수와 태그의 개수를 할당\n",
    "plylst_use.loc[:,'num_songs'] = plylst_use['songs_id'].map(len)\n",
    "plylst_use.loc[:,'num_tags'] = plylst_use['tags_id'].map(len)\n",
    "plylst_use = plylst_use.set_index('nid')"
   ]
  },
  {
   "cell_type": "code",
   "execution_count": 6,
   "metadata": {},
   "outputs": [
    {
     "data": {
      "text/plain": [
       "(138086, 6)"
      ]
     },
     "execution_count": 6,
     "metadata": {},
     "output_type": "execute_result"
    }
   ],
   "source": [
    "plylst_use.shape"
   ]
  },
  {
   "cell_type": "code",
   "execution_count": 16,
   "metadata": {
    "scrolled": true
   },
   "outputs": [
    {
     "data": {
      "application/vnd.jupyter.widget-view+json": {
       "model_id": "a81bcf368c4144d4b6a5764bad71334a",
       "version_major": 2,
       "version_minor": 0
      },
      "text/plain": [
       "HBox(children=(FloatProgress(value=0.0, max=138086.0), HTML(value='')))"
      ]
     },
     "metadata": {},
     "output_type": "display_data"
    },
    {
     "name": "stdout",
     "output_type": "stream",
     "text": [
      "\n",
      "200 \n",
      "\n",
      "user_ids: (5707070,)\n",
      "\n",
      "item_ids: (5707070,)\n",
      "\n",
      "ratings: (5707070,)\n",
      "\n",
      "timestamps: (5707070,)\n",
      "\n"
     ]
    }
   ],
   "source": [
    "user_ids   = np.array(())\n",
    "item_ids   = np.array(())\n",
    "ratings    = np.array(())\n",
    "timestamps = np.array(())\n",
    "\n",
    "max_num_songs = max(plylst_use.num_songs)\n",
    "\n",
    "# for i in range(5):\n",
    "#     line = plylst_train.iloc[i, :]\n",
    "#     print(line.num_songs)\n",
    "\n",
    "for i, line in tqdm(enumerate(plylst_use.iterrows()), total=plylst_use.shape[0]):\n",
    "    data = line[1]\n",
    "    temp_user_ids   = np.repeat(i, data.num_songs)\n",
    "    # 나중에 1 빼주면 됩니다 / 0 패딩을 하니까 이거랑 아이템 아이디랑 구분이 되지 않아서 에러 발생 방지\n",
    "    temp_item_ids   = np.array(data.songs_id) + 1\n",
    "    temp_ratings    = np.repeat(1, data.num_songs)\n",
    "    temp_timestamps = np.arange(data.num_songs)\n",
    "    \n",
    "    user_ids = np.hstack([user_ids, temp_user_ids])\n",
    "    item_ids = np.hstack([item_ids, temp_item_ids])\n",
    "    ratings  = np.hstack([ratings, temp_ratings])\n",
    "    timestamps = np.hstack([timestamps, temp_timestamps])\n",
    "\n",
    "print(max_num_songs, '\\n')\n",
    "print(f\"user_ids: {user_ids.shape}\\n\")\n",
    "print(f\"item_ids: {item_ids.shape}\\n\")\n",
    "print(f\"ratings: {ratings.shape}\\n\")\n",
    "print(f\"timestamps: {timestamps.shape}\\n\")"
   ]
  },
  {
   "cell_type": "code",
   "execution_count": 17,
   "metadata": {},
   "outputs": [],
   "source": [
    "# save spotligth seq data\n",
    "np.save('./../data/user_ids_for_spotlight.npy', user_ids)\n",
    "np.save('./../data/item_ids_for_spotlight.npy', item_ids)\n",
    "np.save('./../data/ratings_for_spotlight.npy', ratings)\n",
    "np.save('./../data/timestamps_for_spotlight.npy', timestamps)"
   ]
  },
  {
   "cell_type": "code",
   "execution_count": 34,
   "metadata": {},
   "outputs": [],
   "source": [
    "def _index_or_none(array, shuffle_index):\n",
    "\n",
    "    if array is None:\n",
    "        return None\n",
    "    else:\n",
    "        return array[shuffle_index]"
   ]
  },
  {
   "cell_type": "code",
   "execution_count": 35,
   "metadata": {},
   "outputs": [],
   "source": [
    "from spotlight.interactions import Interactions\n",
    "\n",
    "train_index = plylst_use[plylst_use['istrain'] == 1].index.to_numpy()\n",
    "test_index  = plylst_use[plylst_use['istrain'] == 0].index.to_numpy()\n",
    "\n",
    "dataset = Interactions(user_ids=user_ids, item_ids=item_ids, ratings=ratings, timestamps=timestamps)\n",
    "\n",
    "train = Interactions(dataset.user_ids[train_index],\n",
    "                     dataset.item_ids[train_index],\n",
    "                     ratings=_index_or_none(dataset.ratings, train_index),\n",
    "                     timestamps=_index_or_none(dataset.timestamps, train_index),\n",
    "                     num_users=dataset.num_users,\n",
    "                     num_items=dataset.num_items)\n",
    "\n",
    "test  = Interactions(dataset.user_ids[test_index],\n",
    "                     dataset.item_ids[test_index],\n",
    "                     ratings=_index_or_none(dataset.ratings, test_index),\n",
    "                     timestamps=_index_or_none(dataset.timestamps, test_index),\n",
    "                     num_users=dataset.num_users,\n",
    "                     num_items=dataset.num_items)"
   ]
  },
  {
   "cell_type": "code",
   "execution_count": 36,
   "metadata": {},
   "outputs": [
    {
     "data": {
      "text/plain": [
       "<Interactions dataset (138086 users x 638337 items x 115071 interactions)>"
      ]
     },
     "execution_count": 36,
     "metadata": {},
     "output_type": "execute_result"
    }
   ],
   "source": [
    "train"
   ]
  },
  {
   "cell_type": "code",
   "execution_count": 37,
   "metadata": {},
   "outputs": [
    {
     "data": {
      "text/plain": [
       "<Interactions dataset (138086 users x 638337 items x 23015 interactions)>"
      ]
     },
     "execution_count": 37,
     "metadata": {},
     "output_type": "execute_result"
    }
   ],
   "source": [
    "test"
   ]
  },
  {
   "cell_type": "code",
   "execution_count": null,
   "metadata": {},
   "outputs": [],
   "source": []
  }
 ],
 "metadata": {
  "kernelspec": {
   "display_name": "Python 3",
   "language": "python",
   "name": "python3"
  },
  "language_info": {
   "codemirror_mode": {
    "name": "ipython",
    "version": 3
   },
   "file_extension": ".py",
   "mimetype": "text/x-python",
   "name": "python",
   "nbconvert_exporter": "python",
   "pygments_lexer": "ipython3",
   "version": "3.6.10"
  }
 },
 "nbformat": 4,
 "nbformat_minor": 4
}
